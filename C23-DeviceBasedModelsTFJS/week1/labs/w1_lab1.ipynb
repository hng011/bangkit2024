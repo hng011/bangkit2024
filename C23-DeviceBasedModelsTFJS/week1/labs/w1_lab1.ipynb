{
 "cells": [
  {
   "cell_type": "code",
   "execution_count": 1,
   "id": "265b4337",
   "metadata": {},
   "outputs": [
    {
     "name": "stdout",
     "output_type": "stream",
     "text": [
      "• Using TensorFlow Version: 2.9.1\n"
     ]
    }
   ],
   "source": [
    "import pathlib\n",
    "import numpy as np\n",
    "import matplotlib.pyplot as plt\n",
    "\n",
    "import tensorflow as tf\n",
    "\n",
    "print('\\u2022 Using TensorFlow Version:', tf.__version__)"
   ]
  },
  {
   "cell_type": "markdown",
   "id": "54b5113a",
   "metadata": {},
   "source": [
    "Model: 2x - 1"
   ]
  },
  {
   "cell_type": "code",
   "execution_count": 2,
   "id": "c57bf3b4",
   "metadata": {},
   "outputs": [
    {
     "name": "stdout",
     "output_type": "stream",
     "text": [
      "Model: \"sequential\"\n",
      "_________________________________________________________________\n",
      " Layer (type)                Output Shape              Param #   \n",
      "=================================================================\n",
      " dense (Dense)               (None, 1024)              2048      \n",
      "                                                                 \n",
      " dense_1 (Dense)             (None, 1)                 1025      \n",
      "                                                                 \n",
      "=================================================================\n",
      "Total params: 3,073\n",
      "Trainable params: 3,073\n",
      "Non-trainable params: 0\n",
      "_________________________________________________________________\n"
     ]
    },
    {
     "name": "stderr",
     "output_type": "stream",
     "text": [
      "2024-05-09 20:04:24.756790: I tensorflow/stream_executor/cuda/cuda_gpu_executor.cc:975] successful NUMA node read from SysFS had negative value (-1), but there must be at least one NUMA node, so returning NUMA node zero\n",
      "2024-05-09 20:04:24.848527: I tensorflow/stream_executor/cuda/cuda_gpu_executor.cc:975] successful NUMA node read from SysFS had negative value (-1), but there must be at least one NUMA node, so returning NUMA node zero\n",
      "2024-05-09 20:04:24.848706: I tensorflow/stream_executor/cuda/cuda_gpu_executor.cc:975] successful NUMA node read from SysFS had negative value (-1), but there must be at least one NUMA node, so returning NUMA node zero\n",
      "2024-05-09 20:04:24.849321: I tensorflow/core/platform/cpu_feature_guard.cc:193] This TensorFlow binary is optimized with oneAPI Deep Neural Network Library (oneDNN) to use the following CPU instructions in performance-critical operations:  SSE3 SSE4.1 SSE4.2 AVX AVX2 FMA\n",
      "To enable them in other operations, rebuild TensorFlow with the appropriate compiler flags.\n",
      "2024-05-09 20:04:24.850815: I tensorflow/stream_executor/cuda/cuda_gpu_executor.cc:975] successful NUMA node read from SysFS had negative value (-1), but there must be at least one NUMA node, so returning NUMA node zero\n",
      "2024-05-09 20:04:24.850946: I tensorflow/stream_executor/cuda/cuda_gpu_executor.cc:975] successful NUMA node read from SysFS had negative value (-1), but there must be at least one NUMA node, so returning NUMA node zero\n",
      "2024-05-09 20:04:24.851057: I tensorflow/stream_executor/cuda/cuda_gpu_executor.cc:975] successful NUMA node read from SysFS had negative value (-1), but there must be at least one NUMA node, so returning NUMA node zero\n",
      "2024-05-09 20:04:25.694421: I tensorflow/stream_executor/cuda/cuda_gpu_executor.cc:975] successful NUMA node read from SysFS had negative value (-1), but there must be at least one NUMA node, so returning NUMA node zero\n",
      "2024-05-09 20:04:25.694584: I tensorflow/stream_executor/cuda/cuda_gpu_executor.cc:975] successful NUMA node read from SysFS had negative value (-1), but there must be at least one NUMA node, so returning NUMA node zero\n",
      "2024-05-09 20:04:25.694705: I tensorflow/stream_executor/cuda/cuda_gpu_executor.cc:975] successful NUMA node read from SysFS had negative value (-1), but there must be at least one NUMA node, so returning NUMA node zero\n",
      "2024-05-09 20:04:25.694807: I tensorflow/core/common_runtime/gpu/gpu_device.cc:1532] Created device /job:localhost/replica:0/task:0/device:GPU:0 with 2667 MB memory:  -> device: 0, name: NVIDIA GeForce GTX 1650, pci bus id: 0000:01:00.0, compute capability: 7.5\n"
     ]
    }
   ],
   "source": [
    "x = [-1, 0, 1, 2, 3, 4]\n",
    "y = [-3, -1, 1, 3, 5, 7]\n",
    "\n",
    "model = tf.keras.models.Sequential([\n",
    "    tf.keras.layers.Dense(units=1024, activation=\"relu\",input_shape=[1]),\n",
    "    tf.keras.layers.Dense(units=1, activation=\"linear\", input_shape=[1])\n",
    "])\n",
    "\n",
    "model.compile(\n",
    "    optimizer=tf.optimizers.SGD(),\n",
    "    loss=tf.losses.mean_squared_error,\n",
    "    metrics=[\"accuracy\"]\n",
    ")\n",
    "\n",
    "model.summary()"
   ]
  },
  {
   "cell_type": "code",
   "execution_count": 3,
   "id": "49e03f67",
   "metadata": {},
   "outputs": [
    {
     "name": "stdout",
     "output_type": "stream",
     "text": [
      "Epoch 1/200\n",
      "1/1 [==============================] - 2s 2s/step - loss: 16.7818 - accuracy: 0.0000e+00\n",
      "Epoch 2/200\n",
      "1/1 [==============================] - 0s 3ms/step - loss: 11.2640 - accuracy: 0.0000e+00\n",
      "Epoch 3/200\n",
      "1/1 [==============================] - 0s 3ms/step - loss: 7.8166 - accuracy: 0.1667\n",
      "Epoch 4/200\n",
      "1/1 [==============================] - 0s 3ms/step - loss: 5.4954 - accuracy: 0.1667\n",
      "Epoch 5/200\n",
      "1/1 [==============================] - 0s 3ms/step - loss: 3.9501 - accuracy: 0.1667\n",
      "Epoch 6/200\n",
      "1/1 [==============================] - 0s 3ms/step - loss: 2.9772 - accuracy: 0.1667\n",
      "Epoch 7/200\n",
      "1/1 [==============================] - 0s 4ms/step - loss: 2.4054 - accuracy: 0.1667\n",
      "Epoch 8/200\n",
      "1/1 [==============================] - 0s 3ms/step - loss: 2.0824 - accuracy: 0.1667\n",
      "Epoch 9/200\n",
      "1/1 [==============================] - 0s 4ms/step - loss: 1.8960 - accuracy: 0.1667\n",
      "Epoch 10/200\n",
      "1/1 [==============================] - 0s 4ms/step - loss: 1.7778 - accuracy: 0.1667\n",
      "Epoch 11/200\n",
      "1/1 [==============================] - 0s 4ms/step - loss: 1.6919 - accuracy: 0.1667\n",
      "Epoch 12/200\n",
      "1/1 [==============================] - 0s 3ms/step - loss: 1.6209 - accuracy: 0.1667\n",
      "Epoch 13/200\n",
      "1/1 [==============================] - 0s 3ms/step - loss: 1.5572 - accuracy: 0.1667\n",
      "Epoch 14/200\n",
      "1/1 [==============================] - 0s 3ms/step - loss: 1.4976 - accuracy: 0.1667\n",
      "Epoch 15/200\n",
      "1/1 [==============================] - 0s 4ms/step - loss: 1.4409 - accuracy: 0.1667\n",
      "Epoch 16/200\n",
      "1/1 [==============================] - 0s 3ms/step - loss: 1.3864 - accuracy: 0.1667\n",
      "Epoch 17/200\n",
      "1/1 [==============================] - 0s 4ms/step - loss: 1.3339 - accuracy: 0.1667\n",
      "Epoch 18/200\n",
      "1/1 [==============================] - 0s 3ms/step - loss: 1.2833 - accuracy: 0.1667\n",
      "Epoch 19/200\n",
      "1/1 [==============================] - 0s 4ms/step - loss: 1.2343 - accuracy: 0.1667\n",
      "Epoch 20/200\n",
      "1/1 [==============================] - 0s 3ms/step - loss: 1.1869 - accuracy: 0.1667\n",
      "Epoch 21/200\n",
      "1/1 [==============================] - 0s 4ms/step - loss: 1.1411 - accuracy: 0.1667\n",
      "Epoch 22/200\n",
      "1/1 [==============================] - 0s 4ms/step - loss: 1.0967 - accuracy: 0.1667\n",
      "Epoch 23/200\n",
      "1/1 [==============================] - 0s 3ms/step - loss: 1.0539 - accuracy: 0.1667\n",
      "Epoch 24/200\n",
      "1/1 [==============================] - 0s 4ms/step - loss: 1.0124 - accuracy: 0.1667\n",
      "Epoch 25/200\n",
      "1/1 [==============================] - 0s 3ms/step - loss: 0.9723 - accuracy: 0.1667\n",
      "Epoch 26/200\n",
      "1/1 [==============================] - 0s 4ms/step - loss: 0.9337 - accuracy: 0.1667\n",
      "Epoch 27/200\n",
      "1/1 [==============================] - 0s 4ms/step - loss: 0.8963 - accuracy: 0.1667\n",
      "Epoch 28/200\n",
      "1/1 [==============================] - 0s 3ms/step - loss: 0.8602 - accuracy: 0.1667\n",
      "Epoch 29/200\n",
      "1/1 [==============================] - 0s 3ms/step - loss: 0.8254 - accuracy: 0.1667\n",
      "Epoch 30/200\n",
      "1/1 [==============================] - 0s 3ms/step - loss: 0.7919 - accuracy: 0.1667\n",
      "Epoch 31/200\n",
      "1/1 [==============================] - 0s 4ms/step - loss: 0.7596 - accuracy: 0.1667\n",
      "Epoch 32/200\n",
      "1/1 [==============================] - 0s 3ms/step - loss: 0.7285 - accuracy: 0.1667\n",
      "Epoch 33/200\n",
      "1/1 [==============================] - 0s 4ms/step - loss: 0.6985 - accuracy: 0.1667\n",
      "Epoch 34/200\n",
      "1/1 [==============================] - 0s 3ms/step - loss: 0.6697 - accuracy: 0.1667\n",
      "Epoch 35/200\n",
      "1/1 [==============================] - 0s 4ms/step - loss: 0.6420 - accuracy: 0.1667\n",
      "Epoch 36/200\n",
      "1/1 [==============================] - 0s 4ms/step - loss: 0.6154 - accuracy: 0.1667\n",
      "Epoch 37/200\n",
      "1/1 [==============================] - 0s 4ms/step - loss: 0.5899 - accuracy: 0.1667\n",
      "Epoch 38/200\n",
      "1/1 [==============================] - 0s 4ms/step - loss: 0.5654 - accuracy: 0.1667\n",
      "Epoch 39/200\n",
      "1/1 [==============================] - 0s 3ms/step - loss: 0.5418 - accuracy: 0.1667\n",
      "Epoch 40/200\n",
      "1/1 [==============================] - 0s 3ms/step - loss: 0.5193 - accuracy: 0.1667\n",
      "Epoch 41/200\n",
      "1/1 [==============================] - 0s 4ms/step - loss: 0.4976 - accuracy: 0.1667\n",
      "Epoch 42/200\n",
      "1/1 [==============================] - 0s 4ms/step - loss: 0.4768 - accuracy: 0.1667\n",
      "Epoch 43/200\n",
      "1/1 [==============================] - 0s 4ms/step - loss: 0.4567 - accuracy: 0.1667\n",
      "Epoch 44/200\n",
      "1/1 [==============================] - 0s 3ms/step - loss: 0.4375 - accuracy: 0.1667\n",
      "Epoch 45/200\n",
      "1/1 [==============================] - 0s 3ms/step - loss: 0.4191 - accuracy: 0.1667\n",
      "Epoch 46/200\n",
      "1/1 [==============================] - 0s 4ms/step - loss: 0.4013 - accuracy: 0.1667\n",
      "Epoch 47/200\n",
      "1/1 [==============================] - 0s 4ms/step - loss: 0.3843 - accuracy: 0.1667\n",
      "Epoch 48/200\n",
      "1/1 [==============================] - 0s 4ms/step - loss: 0.3680 - accuracy: 0.1667\n",
      "Epoch 49/200\n",
      "1/1 [==============================] - 0s 3ms/step - loss: 0.3523 - accuracy: 0.1667\n",
      "Epoch 50/200\n",
      "1/1 [==============================] - 0s 4ms/step - loss: 0.3373 - accuracy: 0.1667\n",
      "Epoch 51/200\n",
      "1/1 [==============================] - 0s 5ms/step - loss: 0.3229 - accuracy: 0.1667\n",
      "Epoch 52/200\n",
      "1/1 [==============================] - 0s 5ms/step - loss: 0.3091 - accuracy: 0.1667\n",
      "Epoch 53/200\n",
      "1/1 [==============================] - 0s 4ms/step - loss: 0.2959 - accuracy: 0.1667\n",
      "Epoch 54/200\n",
      "1/1 [==============================] - 0s 3ms/step - loss: 0.2833 - accuracy: 0.1667\n",
      "Epoch 55/200\n",
      "1/1 [==============================] - 0s 5ms/step - loss: 0.2711 - accuracy: 0.1667\n",
      "Epoch 56/200\n",
      "1/1 [==============================] - 0s 5ms/step - loss: 0.2595 - accuracy: 0.1667\n",
      "Epoch 57/200\n",
      "1/1 [==============================] - 0s 4ms/step - loss: 0.2484 - accuracy: 0.1667\n",
      "Epoch 58/200\n",
      "1/1 [==============================] - 0s 4ms/step - loss: 0.2378 - accuracy: 0.1667\n",
      "Epoch 59/200\n",
      "1/1 [==============================] - 0s 3ms/step - loss: 0.2276 - accuracy: 0.1667\n",
      "Epoch 60/200\n",
      "1/1 [==============================] - 0s 4ms/step - loss: 0.2180 - accuracy: 0.1667\n",
      "Epoch 61/200\n",
      "1/1 [==============================] - 0s 3ms/step - loss: 0.2087 - accuracy: 0.1667\n",
      "Epoch 62/200\n",
      "1/1 [==============================] - 0s 5ms/step - loss: 0.1999 - accuracy: 0.1667\n",
      "Epoch 63/200\n",
      "1/1 [==============================] - 0s 3ms/step - loss: 0.1915 - accuracy: 0.1667\n",
      "Epoch 64/200\n",
      "1/1 [==============================] - 0s 4ms/step - loss: 0.1835 - accuracy: 0.1667\n",
      "Epoch 65/200\n",
      "1/1 [==============================] - 0s 3ms/step - loss: 0.1758 - accuracy: 0.1667\n",
      "Epoch 66/200\n",
      "1/1 [==============================] - 0s 4ms/step - loss: 0.1685 - accuracy: 0.1667\n",
      "Epoch 67/200\n",
      "1/1 [==============================] - 0s 3ms/step - loss: 0.1616 - accuracy: 0.1667\n",
      "Epoch 68/200\n",
      "1/1 [==============================] - 0s 4ms/step - loss: 0.1550 - accuracy: 0.1667\n",
      "Epoch 69/200\n",
      "1/1 [==============================] - 0s 4ms/step - loss: 0.1487 - accuracy: 0.1667\n",
      "Epoch 70/200\n",
      "1/1 [==============================] - 0s 4ms/step - loss: 0.1428 - accuracy: 0.1667\n",
      "Epoch 71/200\n",
      "1/1 [==============================] - 0s 5ms/step - loss: 0.1371 - accuracy: 0.1667\n",
      "Epoch 72/200\n",
      "1/1 [==============================] - 0s 4ms/step - loss: 0.1317 - accuracy: 0.1667\n",
      "Epoch 73/200\n",
      "1/1 [==============================] - 0s 3ms/step - loss: 0.1266 - accuracy: 0.1667\n",
      "Epoch 74/200\n",
      "1/1 [==============================] - 0s 4ms/step - loss: 0.1217 - accuracy: 0.1667\n",
      "Epoch 75/200\n",
      "1/1 [==============================] - 0s 3ms/step - loss: 0.1171 - accuracy: 0.1667\n",
      "Epoch 76/200\n",
      "1/1 [==============================] - 0s 3ms/step - loss: 0.1127 - accuracy: 0.1667\n",
      "Epoch 77/200\n",
      "1/1 [==============================] - 0s 4ms/step - loss: 0.1085 - accuracy: 0.1667\n",
      "Epoch 78/200\n",
      "1/1 [==============================] - 0s 4ms/step - loss: 0.1045 - accuracy: 0.1667\n",
      "Epoch 79/200\n",
      "1/1 [==============================] - 0s 3ms/step - loss: 0.1008 - accuracy: 0.1667\n",
      "Epoch 80/200\n",
      "1/1 [==============================] - 0s 3ms/step - loss: 0.0972 - accuracy: 0.1667\n",
      "Epoch 81/200\n",
      "1/1 [==============================] - 0s 4ms/step - loss: 0.0938 - accuracy: 0.1667\n",
      "Epoch 82/200\n",
      "1/1 [==============================] - 0s 3ms/step - loss: 0.0906 - accuracy: 0.1667\n",
      "Epoch 83/200\n",
      "1/1 [==============================] - 0s 4ms/step - loss: 0.0876 - accuracy: 0.1667\n",
      "Epoch 84/200\n"
     ]
    },
    {
     "name": "stdout",
     "output_type": "stream",
     "text": [
      "1/1 [==============================] - 0s 4ms/step - loss: 0.0847 - accuracy: 0.1667\n",
      "Epoch 85/200\n",
      "1/1 [==============================] - 0s 4ms/step - loss: 0.0820 - accuracy: 0.1667\n",
      "Epoch 86/200\n",
      "1/1 [==============================] - 0s 4ms/step - loss: 0.0794 - accuracy: 0.1667\n",
      "Epoch 87/200\n",
      "1/1 [==============================] - 0s 3ms/step - loss: 0.0769 - accuracy: 0.1667\n",
      "Epoch 88/200\n",
      "1/1 [==============================] - 0s 3ms/step - loss: 0.0746 - accuracy: 0.1667\n",
      "Epoch 89/200\n",
      "1/1 [==============================] - 0s 3ms/step - loss: 0.0723 - accuracy: 0.1667\n",
      "Epoch 90/200\n",
      "1/1 [==============================] - 0s 3ms/step - loss: 0.0702 - accuracy: 0.1667\n",
      "Epoch 91/200\n",
      "1/1 [==============================] - 0s 3ms/step - loss: 0.0682 - accuracy: 0.1667\n",
      "Epoch 92/200\n",
      "1/1 [==============================] - 0s 3ms/step - loss: 0.0664 - accuracy: 0.1667\n",
      "Epoch 93/200\n",
      "1/1 [==============================] - 0s 3ms/step - loss: 0.0646 - accuracy: 0.1667\n",
      "Epoch 94/200\n",
      "1/1 [==============================] - 0s 4ms/step - loss: 0.0629 - accuracy: 0.1667\n",
      "Epoch 95/200\n",
      "1/1 [==============================] - 0s 4ms/step - loss: 0.0612 - accuracy: 0.1667\n",
      "Epoch 96/200\n",
      "1/1 [==============================] - 0s 5ms/step - loss: 0.0597 - accuracy: 0.1667\n",
      "Epoch 97/200\n",
      "1/1 [==============================] - 0s 5ms/step - loss: 0.0583 - accuracy: 0.1667\n",
      "Epoch 98/200\n",
      "1/1 [==============================] - 0s 4ms/step - loss: 0.0569 - accuracy: 0.1667\n",
      "Epoch 99/200\n",
      "1/1 [==============================] - 0s 6ms/step - loss: 0.0556 - accuracy: 0.1667\n",
      "Epoch 100/200\n",
      "1/1 [==============================] - 0s 5ms/step - loss: 0.0543 - accuracy: 0.1667\n",
      "Epoch 101/200\n",
      "1/1 [==============================] - 0s 5ms/step - loss: 0.0531 - accuracy: 0.1667\n",
      "Epoch 102/200\n",
      "1/1 [==============================] - 0s 5ms/step - loss: 0.0520 - accuracy: 0.1667\n",
      "Epoch 103/200\n",
      "1/1 [==============================] - 0s 5ms/step - loss: 0.0509 - accuracy: 0.1667\n",
      "Epoch 104/200\n",
      "1/1 [==============================] - 0s 5ms/step - loss: 0.0499 - accuracy: 0.1667\n",
      "Epoch 105/200\n",
      "1/1 [==============================] - 0s 4ms/step - loss: 0.0490 - accuracy: 0.1667\n",
      "Epoch 106/200\n",
      "1/1 [==============================] - 0s 3ms/step - loss: 0.0480 - accuracy: 0.1667\n",
      "Epoch 107/200\n",
      "1/1 [==============================] - 0s 4ms/step - loss: 0.0471 - accuracy: 0.1667\n",
      "Epoch 108/200\n",
      "1/1 [==============================] - 0s 4ms/step - loss: 0.0463 - accuracy: 0.1667\n",
      "Epoch 109/200\n",
      "1/1 [==============================] - 0s 5ms/step - loss: 0.0455 - accuracy: 0.1667\n",
      "Epoch 110/200\n",
      "1/1 [==============================] - 0s 5ms/step - loss: 0.0447 - accuracy: 0.1667\n",
      "Epoch 111/200\n",
      "1/1 [==============================] - 0s 3ms/step - loss: 0.0440 - accuracy: 0.1667\n",
      "Epoch 112/200\n",
      "1/1 [==============================] - 0s 4ms/step - loss: 0.0433 - accuracy: 0.1667\n",
      "Epoch 113/200\n",
      "1/1 [==============================] - 0s 3ms/step - loss: 0.0426 - accuracy: 0.1667\n",
      "Epoch 114/200\n",
      "1/1 [==============================] - 0s 4ms/step - loss: 0.0420 - accuracy: 0.1667\n",
      "Epoch 115/200\n",
      "1/1 [==============================] - 0s 5ms/step - loss: 0.0414 - accuracy: 0.1667\n",
      "Epoch 116/200\n",
      "1/1 [==============================] - 0s 4ms/step - loss: 0.0408 - accuracy: 0.1667\n",
      "Epoch 117/200\n",
      "1/1 [==============================] - 0s 3ms/step - loss: 0.0403 - accuracy: 0.1667\n",
      "Epoch 118/200\n",
      "1/1 [==============================] - 0s 3ms/step - loss: 0.0397 - accuracy: 0.1667\n",
      "Epoch 119/200\n",
      "1/1 [==============================] - 0s 3ms/step - loss: 0.0392 - accuracy: 0.1667\n",
      "Epoch 120/200\n",
      "1/1 [==============================] - 0s 3ms/step - loss: 0.0387 - accuracy: 0.1667\n",
      "Epoch 121/200\n",
      "1/1 [==============================] - 0s 3ms/step - loss: 0.0382 - accuracy: 0.1667\n",
      "Epoch 122/200\n",
      "1/1 [==============================] - 0s 3ms/step - loss: 0.0378 - accuracy: 0.1667\n",
      "Epoch 123/200\n",
      "1/1 [==============================] - 0s 3ms/step - loss: 0.0373 - accuracy: 0.1667\n",
      "Epoch 124/200\n",
      "1/1 [==============================] - 0s 3ms/step - loss: 0.0369 - accuracy: 0.1667\n",
      "Epoch 125/200\n",
      "1/1 [==============================] - 0s 3ms/step - loss: 0.0365 - accuracy: 0.1667\n",
      "Epoch 126/200\n",
      "1/1 [==============================] - 0s 3ms/step - loss: 0.0361 - accuracy: 0.1667\n",
      "Epoch 127/200\n",
      "1/1 [==============================] - 0s 3ms/step - loss: 0.0357 - accuracy: 0.1667\n",
      "Epoch 128/200\n",
      "1/1 [==============================] - 0s 3ms/step - loss: 0.0353 - accuracy: 0.1667\n",
      "Epoch 129/200\n",
      "1/1 [==============================] - 0s 3ms/step - loss: 0.0350 - accuracy: 0.1667\n",
      "Epoch 130/200\n",
      "1/1 [==============================] - 0s 4ms/step - loss: 0.0346 - accuracy: 0.1667\n",
      "Epoch 131/200\n",
      "1/1 [==============================] - 0s 4ms/step - loss: 0.0343 - accuracy: 0.1667\n",
      "Epoch 132/200\n",
      "1/1 [==============================] - 0s 3ms/step - loss: 0.0339 - accuracy: 0.1667\n",
      "Epoch 133/200\n",
      "1/1 [==============================] - 0s 3ms/step - loss: 0.0336 - accuracy: 0.1667\n",
      "Epoch 134/200\n",
      "1/1 [==============================] - 0s 4ms/step - loss: 0.0333 - accuracy: 0.1667\n",
      "Epoch 135/200\n",
      "1/1 [==============================] - 0s 3ms/step - loss: 0.0330 - accuracy: 0.1667\n",
      "Epoch 136/200\n",
      "1/1 [==============================] - 0s 4ms/step - loss: 0.0327 - accuracy: 0.1667\n",
      "Epoch 137/200\n",
      "1/1 [==============================] - 0s 4ms/step - loss: 0.0324 - accuracy: 0.1667\n",
      "Epoch 138/200\n",
      "1/1 [==============================] - 0s 3ms/step - loss: 0.0321 - accuracy: 0.1667\n",
      "Epoch 139/200\n",
      "1/1 [==============================] - 0s 3ms/step - loss: 0.0319 - accuracy: 0.1667\n",
      "Epoch 140/200\n",
      "1/1 [==============================] - 0s 3ms/step - loss: 0.0316 - accuracy: 0.1667\n",
      "Epoch 141/200\n",
      "1/1 [==============================] - 0s 3ms/step - loss: 0.0313 - accuracy: 0.1667\n",
      "Epoch 142/200\n",
      "1/1 [==============================] - 0s 3ms/step - loss: 0.0311 - accuracy: 0.1667\n",
      "Epoch 143/200\n",
      "1/1 [==============================] - 0s 3ms/step - loss: 0.0308 - accuracy: 0.1667\n",
      "Epoch 144/200\n",
      "1/1 [==============================] - 0s 3ms/step - loss: 0.0306 - accuracy: 0.1667\n",
      "Epoch 145/200\n",
      "1/1 [==============================] - 0s 3ms/step - loss: 0.0303 - accuracy: 0.1667\n",
      "Epoch 146/200\n",
      "1/1 [==============================] - 0s 4ms/step - loss: 0.0301 - accuracy: 0.1667\n",
      "Epoch 147/200\n",
      "1/1 [==============================] - 0s 4ms/step - loss: 0.0299 - accuracy: 0.1667\n",
      "Epoch 148/200\n",
      "1/1 [==============================] - 0s 3ms/step - loss: 0.0296 - accuracy: 0.1667\n",
      "Epoch 149/200\n",
      "1/1 [==============================] - 0s 3ms/step - loss: 0.0294 - accuracy: 0.1667\n",
      "Epoch 150/200\n",
      "1/1 [==============================] - 0s 3ms/step - loss: 0.0292 - accuracy: 0.1667\n",
      "Epoch 151/200\n",
      "1/1 [==============================] - 0s 4ms/step - loss: 0.0290 - accuracy: 0.1667\n",
      "Epoch 152/200\n",
      "1/1 [==============================] - 0s 4ms/step - loss: 0.0288 - accuracy: 0.1667\n",
      "Epoch 153/200\n",
      "1/1 [==============================] - 0s 5ms/step - loss: 0.0286 - accuracy: 0.1667\n",
      "Epoch 154/200\n",
      "1/1 [==============================] - 0s 4ms/step - loss: 0.0283 - accuracy: 0.1667\n",
      "Epoch 155/200\n",
      "1/1 [==============================] - 0s 4ms/step - loss: 0.0281 - accuracy: 0.1667\n",
      "Epoch 156/200\n",
      "1/1 [==============================] - 0s 4ms/step - loss: 0.0279 - accuracy: 0.1667\n",
      "Epoch 157/200\n",
      "1/1 [==============================] - 0s 4ms/step - loss: 0.0277 - accuracy: 0.1667\n",
      "Epoch 158/200\n",
      "1/1 [==============================] - 0s 4ms/step - loss: 0.0275 - accuracy: 0.1667\n",
      "Epoch 159/200\n",
      "1/1 [==============================] - 0s 3ms/step - loss: 0.0274 - accuracy: 0.1667\n",
      "Epoch 160/200\n",
      "1/1 [==============================] - 0s 4ms/step - loss: 0.0272 - accuracy: 0.1667\n",
      "Epoch 161/200\n",
      "1/1 [==============================] - 0s 3ms/step - loss: 0.0270 - accuracy: 0.1667\n",
      "Epoch 162/200\n",
      "1/1 [==============================] - 0s 3ms/step - loss: 0.0268 - accuracy: 0.1667\n",
      "Epoch 163/200\n",
      "1/1 [==============================] - 0s 4ms/step - loss: 0.0266 - accuracy: 0.1667\n",
      "Epoch 164/200\n",
      "1/1 [==============================] - 0s 4ms/step - loss: 0.0264 - accuracy: 0.1667\n",
      "Epoch 165/200\n",
      "1/1 [==============================] - 0s 4ms/step - loss: 0.0262 - accuracy: 0.1667\n",
      "Epoch 166/200\n",
      "1/1 [==============================] - 0s 5ms/step - loss: 0.0261 - accuracy: 0.1667\n",
      "Epoch 167/200\n"
     ]
    },
    {
     "name": "stdout",
     "output_type": "stream",
     "text": [
      "1/1 [==============================] - 0s 4ms/step - loss: 0.0259 - accuracy: 0.1667\n",
      "Epoch 168/200\n",
      "1/1 [==============================] - 0s 4ms/step - loss: 0.0257 - accuracy: 0.1667\n",
      "Epoch 169/200\n",
      "1/1 [==============================] - 0s 5ms/step - loss: 0.0255 - accuracy: 0.1667\n",
      "Epoch 170/200\n",
      "1/1 [==============================] - 0s 4ms/step - loss: 0.0254 - accuracy: 0.1667\n",
      "Epoch 171/200\n",
      "1/1 [==============================] - 0s 5ms/step - loss: 0.0252 - accuracy: 0.1667\n",
      "Epoch 172/200\n",
      "1/1 [==============================] - 0s 5ms/step - loss: 0.0250 - accuracy: 0.1667\n",
      "Epoch 173/200\n",
      "1/1 [==============================] - 0s 5ms/step - loss: 0.0248 - accuracy: 0.1667\n",
      "Epoch 174/200\n",
      "1/1 [==============================] - 0s 3ms/step - loss: 0.0247 - accuracy: 0.1667\n",
      "Epoch 175/200\n",
      "1/1 [==============================] - 0s 3ms/step - loss: 0.0245 - accuracy: 0.1667\n",
      "Epoch 176/200\n",
      "1/1 [==============================] - 0s 3ms/step - loss: 0.0244 - accuracy: 0.1667\n",
      "Epoch 177/200\n",
      "1/1 [==============================] - 0s 3ms/step - loss: 0.0242 - accuracy: 0.1667\n",
      "Epoch 178/200\n",
      "1/1 [==============================] - 0s 4ms/step - loss: 0.0240 - accuracy: 0.1667\n",
      "Epoch 179/200\n",
      "1/1 [==============================] - 0s 3ms/step - loss: 0.0239 - accuracy: 0.1667\n",
      "Epoch 180/200\n",
      "1/1 [==============================] - 0s 4ms/step - loss: 0.0237 - accuracy: 0.1667\n",
      "Epoch 181/200\n",
      "1/1 [==============================] - 0s 3ms/step - loss: 0.0236 - accuracy: 0.1667\n",
      "Epoch 182/200\n",
      "1/1 [==============================] - 0s 3ms/step - loss: 0.0234 - accuracy: 0.1667\n",
      "Epoch 183/200\n",
      "1/1 [==============================] - 0s 3ms/step - loss: 0.0232 - accuracy: 0.1667\n",
      "Epoch 184/200\n",
      "1/1 [==============================] - 0s 4ms/step - loss: 0.0231 - accuracy: 0.1667\n",
      "Epoch 185/200\n",
      "1/1 [==============================] - 0s 4ms/step - loss: 0.0229 - accuracy: 0.1667\n",
      "Epoch 186/200\n",
      "1/1 [==============================] - 0s 5ms/step - loss: 0.0228 - accuracy: 0.1667\n",
      "Epoch 187/200\n",
      "1/1 [==============================] - 0s 4ms/step - loss: 0.0226 - accuracy: 0.1667\n",
      "Epoch 188/200\n",
      "1/1 [==============================] - 0s 4ms/step - loss: 0.0225 - accuracy: 0.1667\n",
      "Epoch 189/200\n",
      "1/1 [==============================] - 0s 3ms/step - loss: 0.0223 - accuracy: 0.1667\n",
      "Epoch 190/200\n",
      "1/1 [==============================] - 0s 4ms/step - loss: 0.0222 - accuracy: 0.1667\n",
      "Epoch 191/200\n",
      "1/1 [==============================] - 0s 3ms/step - loss: 0.0221 - accuracy: 0.1667\n",
      "Epoch 192/200\n",
      "1/1 [==============================] - 0s 3ms/step - loss: 0.0219 - accuracy: 0.1667\n",
      "Epoch 193/200\n",
      "1/1 [==============================] - 0s 3ms/step - loss: 0.0218 - accuracy: 0.1667\n",
      "Epoch 194/200\n",
      "1/1 [==============================] - 0s 3ms/step - loss: 0.0216 - accuracy: 0.1667\n",
      "Epoch 195/200\n",
      "1/1 [==============================] - 0s 4ms/step - loss: 0.0215 - accuracy: 0.1667\n",
      "Epoch 196/200\n",
      "1/1 [==============================] - 0s 4ms/step - loss: 0.0213 - accuracy: 0.1667\n",
      "Epoch 197/200\n",
      "1/1 [==============================] - 0s 3ms/step - loss: 0.0212 - accuracy: 0.1667\n",
      "Epoch 198/200\n",
      "1/1 [==============================] - 0s 3ms/step - loss: 0.0211 - accuracy: 0.1667\n",
      "Epoch 199/200\n",
      "1/1 [==============================] - 0s 3ms/step - loss: 0.0209 - accuracy: 0.1667\n",
      "Epoch 200/200\n",
      "1/1 [==============================] - 0s 3ms/step - loss: 0.0208 - accuracy: 0.1667\n"
     ]
    },
    {
     "data": {
      "text/plain": [
       "<keras.callbacks.History at 0x7692a00b0040>"
      ]
     },
     "execution_count": 3,
     "metadata": {},
     "output_type": "execute_result"
    }
   ],
   "source": [
    "model.fit(x, y, epochs=200)"
   ]
  },
  {
   "cell_type": "code",
   "execution_count": 4,
   "id": "493dc45f",
   "metadata": {},
   "outputs": [
    {
     "name": "stdout",
     "output_type": "stream",
     "text": [
      "1/1 [==============================] - 0s 51ms/step\n"
     ]
    },
    {
     "data": {
      "text/plain": [
       "array([[6.9227285]], dtype=float32)"
      ]
     },
     "execution_count": 4,
     "metadata": {},
     "output_type": "execute_result"
    }
   ],
   "source": [
    "model.predict([4])"
   ]
  },
  {
   "cell_type": "markdown",
   "id": "86e4e5ed",
   "metadata": {},
   "source": [
    "## Generate a saved model"
   ]
  },
  {
   "cell_type": "code",
   "execution_count": 6,
   "id": "bbf793d1",
   "metadata": {},
   "outputs": [
    {
     "name": "stdout",
     "output_type": "stream",
     "text": [
      "INFO:tensorflow:Assets written to: saved_model/1/assets\n"
     ]
    }
   ],
   "source": [
    "export_dir = \"saved_model/1\"\n",
    "tf.saved_model.save(model, export_dir)"
   ]
  },
  {
   "cell_type": "markdown",
   "id": "05f26d72",
   "metadata": {},
   "source": [
    "## Convert the saved model to tflite"
   ]
  },
  {
   "cell_type": "code",
   "execution_count": 8,
   "id": "483798f8",
   "metadata": {},
   "outputs": [
    {
     "name": "stderr",
     "output_type": "stream",
     "text": [
      "2024-05-06 11:23:02.059001: W tensorflow/compiler/mlir/lite/python/tf_tfl_flatbuffer_helpers.cc:362] Ignored output_format.\n",
      "2024-05-06 11:23:02.059032: W tensorflow/compiler/mlir/lite/python/tf_tfl_flatbuffer_helpers.cc:365] Ignored drop_control_dependency.\n",
      "2024-05-06 11:23:02.059507: I tensorflow/cc/saved_model/reader.cc:43] Reading SavedModel from: saved_model/1\n",
      "2024-05-06 11:23:02.060181: I tensorflow/cc/saved_model/reader.cc:81] Reading meta graph with tags { serve }\n",
      "2024-05-06 11:23:02.060196: I tensorflow/cc/saved_model/reader.cc:122] Reading SavedModel debug info (if present) from: saved_model/1\n",
      "2024-05-06 11:23:02.062534: I tensorflow/compiler/mlir/mlir_graph_optimization_pass.cc:354] MLIR V1 optimization pass is not enabled\n",
      "2024-05-06 11:23:02.063248: I tensorflow/cc/saved_model/loader.cc:228] Restoring SavedModel bundle.\n",
      "2024-05-06 11:23:02.079209: I tensorflow/cc/saved_model/loader.cc:212] Running initialization op on SavedModel bundle at path: saved_model/1\n",
      "2024-05-06 11:23:02.085731: I tensorflow/cc/saved_model/loader.cc:301] SavedModel load for tags { serve }; Status: success: OK. Took 26229 microseconds.\n",
      "2024-05-06 11:23:02.093262: I tensorflow/compiler/mlir/tensorflow/utils/dump_mlir_util.cc:263] disabling MLIR crash reproducer, set env var `MLIR_CRASH_REPRODUCER_DIRECTORY` to enable.\n"
     ]
    }
   ],
   "source": [
    "converter = tf.lite.TFLiteConverter.from_saved_model(export_dir)\n",
    "tflite_model = converter.convert()"
   ]
  },
  {
   "cell_type": "code",
   "execution_count": 9,
   "id": "1319c0fd",
   "metadata": {},
   "outputs": [
    {
     "data": {
      "text/plain": [
       "13728"
      ]
     },
     "execution_count": 9,
     "metadata": {},
     "output_type": "execute_result"
    }
   ],
   "source": [
    "tflite_model_file = pathlib.Path('2xminus1.tflite')\n",
    "tflite_model_file.write_bytes(tflite_model)"
   ]
  },
  {
   "cell_type": "markdown",
   "id": "59fa3681",
   "metadata": {},
   "source": [
    "## Initialize the TFlite interpreter "
   ]
  },
  {
   "cell_type": "code",
   "execution_count": 10,
   "id": "a97726e2",
   "metadata": {},
   "outputs": [
    {
     "name": "stderr",
     "output_type": "stream",
     "text": [
      "INFO: Created TensorFlow Lite XNNPACK delegate for CPU.\n"
     ]
    }
   ],
   "source": [
    "interpreter = tf.lite.Interpreter(model_content=tflite_model)\n",
    "interpreter.allocate_tensors()"
   ]
  },
  {
   "cell_type": "code",
   "execution_count": 11,
   "id": "e49b6d65",
   "metadata": {},
   "outputs": [],
   "source": [
    "input_details = interpreter.get_input_details()\n",
    "output_details = interpreter.get_output_details()"
   ]
  },
  {
   "cell_type": "code",
   "execution_count": 12,
   "id": "6bbcc0f1",
   "metadata": {},
   "outputs": [
    {
     "data": {
      "text/plain": [
       "[{'name': 'serving_default_dense_input:0',\n",
       "  'index': 0,\n",
       "  'shape': array([1, 1], dtype=int32),\n",
       "  'shape_signature': array([-1,  1], dtype=int32),\n",
       "  'dtype': numpy.float32,\n",
       "  'quantization': (0.0, 0),\n",
       "  'quantization_parameters': {'scales': array([], dtype=float32),\n",
       "   'zero_points': array([], dtype=int32),\n",
       "   'quantized_dimension': 0},\n",
       "  'sparsity_parameters': {}}]"
      ]
     },
     "execution_count": 12,
     "metadata": {},
     "output_type": "execute_result"
    }
   ],
   "source": [
    "input_details"
   ]
  },
  {
   "cell_type": "code",
   "execution_count": 13,
   "id": "3a4a10e0",
   "metadata": {},
   "outputs": [
    {
     "data": {
      "text/plain": [
       "[{'name': 'StatefulPartitionedCall:0',\n",
       "  'index': 6,\n",
       "  'shape': array([1, 1], dtype=int32),\n",
       "  'shape_signature': array([-1,  1], dtype=int32),\n",
       "  'dtype': numpy.float32,\n",
       "  'quantization': (0.0, 0),\n",
       "  'quantization_parameters': {'scales': array([], dtype=float32),\n",
       "   'zero_points': array([], dtype=int32),\n",
       "   'quantized_dimension': 0},\n",
       "  'sparsity_parameters': {}}]"
      ]
     },
     "execution_count": 13,
     "metadata": {},
     "output_type": "execute_result"
    }
   ],
   "source": [
    "output_details"
   ]
  },
  {
   "cell_type": "code",
   "execution_count": 14,
   "id": "90636e96",
   "metadata": {},
   "outputs": [
    {
     "data": {
      "text/plain": [
       "array([1, 1], dtype=int32)"
      ]
     },
     "execution_count": 14,
     "metadata": {},
     "output_type": "execute_result"
    }
   ],
   "source": [
    "input_details[0][\"shape\"]"
   ]
  },
  {
   "cell_type": "code",
   "execution_count": 18,
   "id": "9ba9d90e",
   "metadata": {},
   "outputs": [
    {
     "data": {
      "text/plain": [
       "array([[0.36493198]])"
      ]
     },
     "execution_count": 18,
     "metadata": {},
     "output_type": "execute_result"
    }
   ],
   "source": [
    "np.random.random_sample([1, 1])"
   ]
  },
  {
   "cell_type": "code",
   "execution_count": 29,
   "id": "53489aa2",
   "metadata": {},
   "outputs": [],
   "source": [
    "# test tflite model on random input data\n",
    "input_shape = input_details[0][\"shape\"]\n",
    "inputs, outputs = [],[]\n",
    "\n",
    "for _ in range(100):\n",
    "    input_data = np.array(np.random.random_sample(input_shape), dtype=np.float32)\n",
    "    interpreter.set_tensor(input_details[0][\"index\"], input_data)\n",
    "    \n",
    "    interpreter.invoke()\n",
    "    tflite_res=interpreter.get_tensor(output_details[0][\"index\"])\n",
    "    \n",
    "    tf_res=model(tf.constant(input_data))\n",
    "    output_data=np.array(tf_res)\n",
    "    \n",
    "    inputs.append(input_data[0][0])\n",
    "    outputs.append(output_data[0][0])"
   ]
  },
  {
   "cell_type": "code",
   "execution_count": 32,
   "id": "36ccd24f",
   "metadata": {},
   "outputs": [
    {
     "data": {
      "image/png": "[encoded data removed]",
      "text/plain": [
       "<Figure size 640x480 with 1 Axes>"
      ]
     },
     "metadata": {},
     "output_type": "display_data"
    }
   ],
   "source": [
    "plt.plot(inputs, outputs, 'black');"
   ]
  },
  {
   "cell_type": "code",
   "execution_count": null,
   "id": "14726c94",
   "metadata": {},
   "outputs": [],
   "source": []
  }
 ],
 "metadata": {
  "kernelspec": {
   "display_name": "Python 3 (ipykernel)",
   "language": "python",
   "name": "python3"
  },
  "language_info": {
   "codemirror_mode": {
    "name": "ipython",
    "version": 3
   },
   "file_extension": ".py",
   "mimetype": "text/x-python",
   "name": "python",
   "nbconvert_exporter": "python",
   "pygments_lexer": "ipython3",
   "version": "3.8.10"
  }
 },
 "nbformat": 4,
 "nbformat_minor": 5
}
