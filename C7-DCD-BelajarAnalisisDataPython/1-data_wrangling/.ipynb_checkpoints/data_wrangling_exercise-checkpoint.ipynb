{
 "cells": [
  {
   "cell_type": "markdown",
   "metadata": {},
   "source": [
    "# Preparation"
   ]
  },
  {
   "cell_type": "code",
   "execution_count": 1,
   "metadata": {},
   "outputs": [],
   "source": [
    "import pandas as pd\n",
    "import numpy as np\n",
    "import matplotlib.pyplot as plt\n",
    "import seaborn as sns"
   ]
  },
  {
   "cell_type": "markdown",
   "metadata": {},
   "source": [
    "# Gathering Data"
   ]
  },
  {
   "cell_type": "code",
   "execution_count": 2,
   "metadata": {},
   "outputs": [],
   "source": [
    "customers_df = pd.read_csv(\"https://raw.githubusercontent.com/dicodingacademy/dicoding_dataset/main/DicodingCollection/customers.csv\")\n",
    "orders_df = pd.read_csv(\"https://raw.githubusercontent.com/dicodingacademy/dicoding_dataset/main/DicodingCollection/orders.csv\")\n",
    "products_df = pd.read_csv(\"https://raw.githubusercontent.com/dicodingacademy/dicoding_dataset/main/DicodingCollection/products.csv\")\n",
    "sales_df = pd.read_csv(\"https://raw.githubusercontent.com/dicodingacademy/dicoding_dataset/main/DicodingCollection/sales.csv\")\n"
   ]
  },
  {
   "cell_type": "code",
   "execution_count": 3,
   "metadata": {},
   "outputs": [
    {
     "data": {
      "text/html": [
       "<div>\n",
       "<style scoped>\n",
       "    .dataframe tbody tr th:only-of-type {\n",
       "        vertical-align: middle;\n",
       "    }\n",
       "\n",
       "    .dataframe tbody tr th {\n",
       "        vertical-align: top;\n",
       "    }\n",
       "\n",
       "    .dataframe thead th {\n",
       "        text-align: right;\n",
       "    }\n",
       "</style>\n",
       "<table border=\"1\" class=\"dataframe\">\n",
       "  <thead>\n",
       "    <tr style=\"text-align: right;\">\n",
       "      <th></th>\n",
       "      <th>customer_id</th>\n",
       "      <th>customer_name</th>\n",
       "      <th>gender</th>\n",
       "      <th>age</th>\n",
       "      <th>home_address</th>\n",
       "      <th>zip_code</th>\n",
       "      <th>city</th>\n",
       "      <th>state</th>\n",
       "      <th>country</th>\n",
       "    </tr>\n",
       "  </thead>\n",
       "  <tbody>\n",
       "    <tr>\n",
       "      <th>1002</th>\n",
       "      <td>996</td>\n",
       "      <td>fulan 996</td>\n",
       "      <td>Prefer not to say</td>\n",
       "      <td>59</td>\n",
       "      <td>0433 Armstrong HillSuite 974</td>\n",
       "      <td>7613</td>\n",
       "      <td>Lake Danielland</td>\n",
       "      <td>Tasmania</td>\n",
       "      <td>Australia</td>\n",
       "    </tr>\n",
       "    <tr>\n",
       "      <th>1003</th>\n",
       "      <td>997</td>\n",
       "      <td>fulan 997</td>\n",
       "      <td>Prefer not to say</td>\n",
       "      <td>30</td>\n",
       "      <td>04 Howell PassSuite 209</td>\n",
       "      <td>6950</td>\n",
       "      <td>Ellaborough</td>\n",
       "      <td>Tasmania</td>\n",
       "      <td>Australia</td>\n",
       "    </tr>\n",
       "    <tr>\n",
       "      <th>1004</th>\n",
       "      <td>998</td>\n",
       "      <td>fulan 998</td>\n",
       "      <td>Prefer not to say</td>\n",
       "      <td>32</td>\n",
       "      <td>72 Annabelle PassApt. 446</td>\n",
       "      <td>52</td>\n",
       "      <td>Kohlerberg</td>\n",
       "      <td>Queensland</td>\n",
       "      <td>Australia</td>\n",
       "    </tr>\n",
       "    <tr>\n",
       "      <th>1005</th>\n",
       "      <td>999</td>\n",
       "      <td>fulan 999</td>\n",
       "      <td>Prefer not to say</td>\n",
       "      <td>30</td>\n",
       "      <td>170 Wilson AvenueApt. 577</td>\n",
       "      <td>7849</td>\n",
       "      <td>East Oscarfurt</td>\n",
       "      <td>Western Australia</td>\n",
       "      <td>Australia</td>\n",
       "    </tr>\n",
       "    <tr>\n",
       "      <th>1006</th>\n",
       "      <td>1000</td>\n",
       "      <td>fulan 1000</td>\n",
       "      <td>Male</td>\n",
       "      <td>71</td>\n",
       "      <td>1671 Lauren KnollSuite 945</td>\n",
       "      <td>9012</td>\n",
       "      <td>Lake Audreyborough</td>\n",
       "      <td>Tasmania</td>\n",
       "      <td>Australia</td>\n",
       "    </tr>\n",
       "  </tbody>\n",
       "</table>\n",
       "</div>"
      ],
      "text/plain": [
       "      customer_id customer_name             gender  age  \\\n",
       "1002          996     fulan 996  Prefer not to say   59   \n",
       "1003          997     fulan 997  Prefer not to say   30   \n",
       "1004          998     fulan 998  Prefer not to say   32   \n",
       "1005          999     fulan 999  Prefer not to say   30   \n",
       "1006         1000    fulan 1000               Male   71   \n",
       "\n",
       "                      home_address  zip_code                city  \\\n",
       "1002  0433 Armstrong HillSuite 974      7613     Lake Danielland   \n",
       "1003       04 Howell PassSuite 209      6950         Ellaborough   \n",
       "1004     72 Annabelle PassApt. 446        52          Kohlerberg   \n",
       "1005     170 Wilson AvenueApt. 577      7849      East Oscarfurt   \n",
       "1006    1671 Lauren KnollSuite 945      9012  Lake Audreyborough   \n",
       "\n",
       "                  state    country  \n",
       "1002           Tasmania  Australia  \n",
       "1003           Tasmania  Australia  \n",
       "1004         Queensland  Australia  \n",
       "1005  Western Australia  Australia  \n",
       "1006           Tasmania  Australia  "
      ]
     },
     "execution_count": 3,
     "metadata": {},
     "output_type": "execute_result"
    }
   ],
   "source": [
    "customers_df.tail()"
   ]
  },
  {
   "cell_type": "code",
   "execution_count": 4,
   "metadata": {},
   "outputs": [
    {
     "data": {
      "text/html": [
       "<div>\n",
       "<style scoped>\n",
       "    .dataframe tbody tr th:only-of-type {\n",
       "        vertical-align: middle;\n",
       "    }\n",
       "\n",
       "    .dataframe tbody tr th {\n",
       "        vertical-align: top;\n",
       "    }\n",
       "\n",
       "    .dataframe thead th {\n",
       "        text-align: right;\n",
       "    }\n",
       "</style>\n",
       "<table border=\"1\" class=\"dataframe\">\n",
       "  <thead>\n",
       "    <tr style=\"text-align: right;\">\n",
       "      <th></th>\n",
       "      <th>order_id</th>\n",
       "      <th>customer_id</th>\n",
       "      <th>payment</th>\n",
       "      <th>order_date</th>\n",
       "      <th>delivery_date</th>\n",
       "    </tr>\n",
       "  </thead>\n",
       "  <tbody>\n",
       "    <tr>\n",
       "      <th>995</th>\n",
       "      <td>996</td>\n",
       "      <td>345</td>\n",
       "      <td>37843</td>\n",
       "      <td>2021-1-13</td>\n",
       "      <td>2021-02-02</td>\n",
       "    </tr>\n",
       "    <tr>\n",
       "      <th>996</th>\n",
       "      <td>997</td>\n",
       "      <td>346</td>\n",
       "      <td>53831</td>\n",
       "      <td>2021-1-18</td>\n",
       "      <td>2021-01-31</td>\n",
       "    </tr>\n",
       "    <tr>\n",
       "      <th>997</th>\n",
       "      <td>998</td>\n",
       "      <td>407</td>\n",
       "      <td>53308</td>\n",
       "      <td>2021-5-5</td>\n",
       "      <td>2021-05-21</td>\n",
       "    </tr>\n",
       "    <tr>\n",
       "      <th>998</th>\n",
       "      <td>999</td>\n",
       "      <td>428</td>\n",
       "      <td>31643</td>\n",
       "      <td>2021-6-15</td>\n",
       "      <td>2021-07-12</td>\n",
       "    </tr>\n",
       "    <tr>\n",
       "      <th>999</th>\n",
       "      <td>1000</td>\n",
       "      <td>896</td>\n",
       "      <td>27836</td>\n",
       "      <td>2021-4-7</td>\n",
       "      <td>2021-04-24</td>\n",
       "    </tr>\n",
       "  </tbody>\n",
       "</table>\n",
       "</div>"
      ],
      "text/plain": [
       "     order_id  customer_id  payment order_date delivery_date\n",
       "995       996          345    37843  2021-1-13    2021-02-02\n",
       "996       997          346    53831  2021-1-18    2021-01-31\n",
       "997       998          407    53308   2021-5-5    2021-05-21\n",
       "998       999          428    31643  2021-6-15    2021-07-12\n",
       "999      1000          896    27836   2021-4-7    2021-04-24"
      ]
     },
     "execution_count": 4,
     "metadata": {},
     "output_type": "execute_result"
    }
   ],
   "source": [
    "orders_df.tail()"
   ]
  },
  {
   "cell_type": "code",
   "execution_count": 5,
   "metadata": {},
   "outputs": [
    {
     "data": {
      "text/html": [
       "<div>\n",
       "<style scoped>\n",
       "    .dataframe tbody tr th:only-of-type {\n",
       "        vertical-align: middle;\n",
       "    }\n",
       "\n",
       "    .dataframe tbody tr th {\n",
       "        vertical-align: top;\n",
       "    }\n",
       "\n",
       "    .dataframe thead th {\n",
       "        text-align: right;\n",
       "    }\n",
       "</style>\n",
       "<table border=\"1\" class=\"dataframe\">\n",
       "  <thead>\n",
       "    <tr style=\"text-align: right;\">\n",
       "      <th></th>\n",
       "      <th>product_id</th>\n",
       "      <th>product_type</th>\n",
       "      <th>product_name</th>\n",
       "      <th>size</th>\n",
       "      <th>colour</th>\n",
       "      <th>price</th>\n",
       "      <th>quantity</th>\n",
       "      <th>description</th>\n",
       "    </tr>\n",
       "  </thead>\n",
       "  <tbody>\n",
       "    <tr>\n",
       "      <th>1261</th>\n",
       "      <td>1255</td>\n",
       "      <td>Trousers</td>\n",
       "      <td>Tracksuit Bottoms</td>\n",
       "      <td>XS</td>\n",
       "      <td>violet</td>\n",
       "      <td>91</td>\n",
       "      <td>67</td>\n",
       "      <td>A violet coloured, XS sized, Tracksuit Bottoms...</td>\n",
       "    </tr>\n",
       "    <tr>\n",
       "      <th>1262</th>\n",
       "      <td>1256</td>\n",
       "      <td>Trousers</td>\n",
       "      <td>Tracksuit Bottoms</td>\n",
       "      <td>S</td>\n",
       "      <td>violet</td>\n",
       "      <td>91</td>\n",
       "      <td>48</td>\n",
       "      <td>A violet coloured, S sized, Tracksuit Bottoms ...</td>\n",
       "    </tr>\n",
       "    <tr>\n",
       "      <th>1263</th>\n",
       "      <td>1257</td>\n",
       "      <td>Trousers</td>\n",
       "      <td>Tracksuit Bottoms</td>\n",
       "      <td>M</td>\n",
       "      <td>violet</td>\n",
       "      <td>91</td>\n",
       "      <td>73</td>\n",
       "      <td>A violet coloured, M sized, Tracksuit Bottoms ...</td>\n",
       "    </tr>\n",
       "    <tr>\n",
       "      <th>1264</th>\n",
       "      <td>1258</td>\n",
       "      <td>Trousers</td>\n",
       "      <td>Tracksuit Bottoms</td>\n",
       "      <td>L</td>\n",
       "      <td>violet</td>\n",
       "      <td>91</td>\n",
       "      <td>45</td>\n",
       "      <td>A violet coloured, L sized, Tracksuit Bottoms ...</td>\n",
       "    </tr>\n",
       "    <tr>\n",
       "      <th>1265</th>\n",
       "      <td>1259</td>\n",
       "      <td>Trousers</td>\n",
       "      <td>Tracksuit Bottoms</td>\n",
       "      <td>XL</td>\n",
       "      <td>violet</td>\n",
       "      <td>91</td>\n",
       "      <td>60</td>\n",
       "      <td>A violet coloured, XL sized, Tracksuit Bottoms...</td>\n",
       "    </tr>\n",
       "  </tbody>\n",
       "</table>\n",
       "</div>"
      ],
      "text/plain": [
       "      product_id product_type       product_name size  colour  price  \\\n",
       "1261        1255     Trousers  Tracksuit Bottoms   XS  violet     91   \n",
       "1262        1256     Trousers  Tracksuit Bottoms    S  violet     91   \n",
       "1263        1257     Trousers  Tracksuit Bottoms    M  violet     91   \n",
       "1264        1258     Trousers  Tracksuit Bottoms    L  violet     91   \n",
       "1265        1259     Trousers  Tracksuit Bottoms   XL  violet     91   \n",
       "\n",
       "      quantity                                        description  \n",
       "1261        67  A violet coloured, XS sized, Tracksuit Bottoms...  \n",
       "1262        48  A violet coloured, S sized, Tracksuit Bottoms ...  \n",
       "1263        73  A violet coloured, M sized, Tracksuit Bottoms ...  \n",
       "1264        45  A violet coloured, L sized, Tracksuit Bottoms ...  \n",
       "1265        60  A violet coloured, XL sized, Tracksuit Bottoms...  "
      ]
     },
     "execution_count": 5,
     "metadata": {},
     "output_type": "execute_result"
    }
   ],
   "source": [
    "products_df.tail()"
   ]
  },
  {
   "cell_type": "code",
   "execution_count": 6,
   "metadata": {},
   "outputs": [
    {
     "data": {
      "text/html": [
       "<div>\n",
       "<style scoped>\n",
       "    .dataframe tbody tr th:only-of-type {\n",
       "        vertical-align: middle;\n",
       "    }\n",
       "\n",
       "    .dataframe tbody tr th {\n",
       "        vertical-align: top;\n",
       "    }\n",
       "\n",
       "    .dataframe thead th {\n",
       "        text-align: right;\n",
       "    }\n",
       "</style>\n",
       "<table border=\"1\" class=\"dataframe\">\n",
       "  <thead>\n",
       "    <tr style=\"text-align: right;\">\n",
       "      <th></th>\n",
       "      <th>sales_id</th>\n",
       "      <th>order_id</th>\n",
       "      <th>product_id</th>\n",
       "      <th>price_per_unit</th>\n",
       "      <th>quantity</th>\n",
       "      <th>total_price</th>\n",
       "    </tr>\n",
       "  </thead>\n",
       "  <tbody>\n",
       "    <tr>\n",
       "      <th>4995</th>\n",
       "      <td>4995</td>\n",
       "      <td>998</td>\n",
       "      <td>321</td>\n",
       "      <td>109</td>\n",
       "      <td>2</td>\n",
       "      <td>218.0</td>\n",
       "    </tr>\n",
       "    <tr>\n",
       "      <th>4996</th>\n",
       "      <td>4996</td>\n",
       "      <td>998</td>\n",
       "      <td>251</td>\n",
       "      <td>95</td>\n",
       "      <td>3</td>\n",
       "      <td>285.0</td>\n",
       "    </tr>\n",
       "    <tr>\n",
       "      <th>4997</th>\n",
       "      <td>4997</td>\n",
       "      <td>999</td>\n",
       "      <td>872</td>\n",
       "      <td>113</td>\n",
       "      <td>1</td>\n",
       "      <td>113.0</td>\n",
       "    </tr>\n",
       "    <tr>\n",
       "      <th>4998</th>\n",
       "      <td>4998</td>\n",
       "      <td>999</td>\n",
       "      <td>998</td>\n",
       "      <td>106</td>\n",
       "      <td>2</td>\n",
       "      <td>212.0</td>\n",
       "    </tr>\n",
       "    <tr>\n",
       "      <th>4999</th>\n",
       "      <td>4999</td>\n",
       "      <td>999</td>\n",
       "      <td>1105</td>\n",
       "      <td>115</td>\n",
       "      <td>1</td>\n",
       "      <td>115.0</td>\n",
       "    </tr>\n",
       "  </tbody>\n",
       "</table>\n",
       "</div>"
      ],
      "text/plain": [
       "      sales_id  order_id  product_id  price_per_unit  quantity  total_price\n",
       "4995      4995       998         321             109         2        218.0\n",
       "4996      4996       998         251              95         3        285.0\n",
       "4997      4997       999         872             113         1        113.0\n",
       "4998      4998       999         998             106         2        212.0\n",
       "4999      4999       999        1105             115         1        115.0"
      ]
     },
     "execution_count": 6,
     "metadata": {},
     "output_type": "execute_result"
    }
   ],
   "source": [
    "sales_df.tail()"
   ]
  },
  {
   "cell_type": "markdown",
   "metadata": {},
   "source": [
    "# Assesing Data"
   ]
  },
  {
   "cell_type": "markdown",
   "metadata": {},
   "source": [
    "### Customers table"
   ]
  },
  {
   "cell_type": "code",
   "execution_count": 7,
   "metadata": {},
   "outputs": [
    {
     "name": "stdout",
     "output_type": "stream",
     "text": [
      "<class 'pandas.core.frame.DataFrame'>\n",
      "RangeIndex: 1007 entries, 0 to 1006\n",
      "Data columns (total 9 columns):\n",
      " #   Column         Non-Null Count  Dtype \n",
      "---  ------         --------------  ----- \n",
      " 0   customer_id    1007 non-null   int64 \n",
      " 1   customer_name  1007 non-null   object\n",
      " 2   gender         989 non-null    object\n",
      " 3   age            1007 non-null   int64 \n",
      " 4   home_address   1007 non-null   object\n",
      " 5   zip_code       1007 non-null   int64 \n",
      " 6   city           1007 non-null   object\n",
      " 7   state          1007 non-null   object\n",
      " 8   country        1007 non-null   object\n",
      "dtypes: int64(3), object(6)\n",
      "memory usage: 70.9+ KB\n"
     ]
    }
   ],
   "source": [
    "customers_df.info()    "
   ]
  },
  {
   "cell_type": "markdown",
   "metadata": {},
   "source": [
    "There is a slight difference in the gender's amount. it shows that there are missing values in it. let's check"
   ]
  },
  {
   "cell_type": "code",
   "execution_count": 8,
   "metadata": {},
   "outputs": [
    {
     "data": {
      "text/plain": [
       "customer_id       0\n",
       "customer_name     0\n",
       "gender           18\n",
       "age               0\n",
       "home_address      0\n",
       "zip_code          0\n",
       "city              0\n",
       "state             0\n",
       "country           0\n",
       "dtype: int64"
      ]
     },
     "execution_count": 8,
     "metadata": {},
     "output_type": "execute_result"
    }
   ],
   "source": [
    "customers_df.isna().sum()"
   ]
  },
  {
   "cell_type": "markdown",
   "metadata": {},
   "source": [
    "Checking the data duplication"
   ]
  },
  {
   "cell_type": "code",
   "execution_count": 9,
   "metadata": {},
   "outputs": [
    {
     "name": "stdout",
     "output_type": "stream",
     "text": [
      "Total data duplication: 6\n"
     ]
    }
   ],
   "source": [
    "print(\"Total data duplication:\",customers_df.duplicated().sum())"
   ]
  },
  {
   "cell_type": "markdown",
   "metadata": {},
   "source": [
    "Checking all of the statistics parameters using describe() function"
   ]
  },
  {
   "cell_type": "code",
   "execution_count": 10,
   "metadata": {},
   "outputs": [
    {
     "data": {
      "text/html": [
       "<div>\n",
       "<style scoped>\n",
       "    .dataframe tbody tr th:only-of-type {\n",
       "        vertical-align: middle;\n",
       "    }\n",
       "\n",
       "    .dataframe tbody tr th {\n",
       "        vertical-align: top;\n",
       "    }\n",
       "\n",
       "    .dataframe thead th {\n",
       "        text-align: right;\n",
       "    }\n",
       "</style>\n",
       "<table border=\"1\" class=\"dataframe\">\n",
       "  <thead>\n",
       "    <tr style=\"text-align: right;\">\n",
       "      <th></th>\n",
       "      <th>customer_id</th>\n",
       "      <th>age</th>\n",
       "      <th>zip_code</th>\n",
       "    </tr>\n",
       "  </thead>\n",
       "  <tbody>\n",
       "    <tr>\n",
       "      <th>count</th>\n",
       "      <td>1007.000000</td>\n",
       "      <td>1007.000000</td>\n",
       "      <td>1007.000000</td>\n",
       "    </tr>\n",
       "    <tr>\n",
       "      <th>mean</th>\n",
       "      <td>501.726912</td>\n",
       "      <td>50.929494</td>\n",
       "      <td>5012.538232</td>\n",
       "    </tr>\n",
       "    <tr>\n",
       "      <th>std</th>\n",
       "      <td>288.673238</td>\n",
       "      <td>30.516299</td>\n",
       "      <td>2885.836112</td>\n",
       "    </tr>\n",
       "    <tr>\n",
       "      <th>min</th>\n",
       "      <td>1.000000</td>\n",
       "      <td>20.000000</td>\n",
       "      <td>2.000000</td>\n",
       "    </tr>\n",
       "    <tr>\n",
       "      <th>25%</th>\n",
       "      <td>252.500000</td>\n",
       "      <td>34.000000</td>\n",
       "      <td>2403.500000</td>\n",
       "    </tr>\n",
       "    <tr>\n",
       "      <th>50%</th>\n",
       "      <td>502.000000</td>\n",
       "      <td>50.000000</td>\n",
       "      <td>5087.000000</td>\n",
       "    </tr>\n",
       "    <tr>\n",
       "      <th>75%</th>\n",
       "      <td>751.500000</td>\n",
       "      <td>65.000000</td>\n",
       "      <td>7493.500000</td>\n",
       "    </tr>\n",
       "    <tr>\n",
       "      <th>max</th>\n",
       "      <td>1000.000000</td>\n",
       "      <td>700.000000</td>\n",
       "      <td>9998.000000</td>\n",
       "    </tr>\n",
       "  </tbody>\n",
       "</table>\n",
       "</div>"
      ],
      "text/plain": [
       "       customer_id          age     zip_code\n",
       "count  1007.000000  1007.000000  1007.000000\n",
       "mean    501.726912    50.929494  5012.538232\n",
       "std     288.673238    30.516299  2885.836112\n",
       "min       1.000000    20.000000     2.000000\n",
       "25%     252.500000    34.000000  2403.500000\n",
       "50%     502.000000    50.000000  5087.000000\n",
       "75%     751.500000    65.000000  7493.500000\n",
       "max    1000.000000   700.000000  9998.000000"
      ]
     },
     "execution_count": 10,
     "metadata": {},
     "output_type": "execute_result"
    }
   ],
   "source": [
    "customers_df.describe()"
   ]
  },
  {
   "cell_type": "markdown",
   "metadata": {},
   "source": [
    "There is an oddity in the max value of age column. 700 years old, whatt??"
   ]
  },
  {
   "cell_type": "markdown",
   "metadata": {},
   "source": [
    "### Orders table"
   ]
  },
  {
   "cell_type": "code",
   "execution_count": 11,
   "metadata": {},
   "outputs": [
    {
     "name": "stdout",
     "output_type": "stream",
     "text": [
      "<class 'pandas.core.frame.DataFrame'>\n",
      "RangeIndex: 1000 entries, 0 to 999\n",
      "Data columns (total 5 columns):\n",
      " #   Column         Non-Null Count  Dtype \n",
      "---  ------         --------------  ----- \n",
      " 0   order_id       1000 non-null   int64 \n",
      " 1   customer_id    1000 non-null   int64 \n",
      " 2   payment        1000 non-null   int64 \n",
      " 3   order_date     1000 non-null   object\n",
      " 4   delivery_date  1000 non-null   object\n",
      "dtypes: int64(3), object(2)\n",
      "memory usage: 39.2+ KB\n"
     ]
    }
   ],
   "source": [
    "orders_df.info()"
   ]
  },
  {
   "cell_type": "markdown",
   "metadata": {},
   "source": [
    "the amount of data is complete, no missing values in it. But there's a type error on delivery_date. It represents the date as an object instead of datetime datatype"
   ]
  },
  {
   "cell_type": "markdown",
   "metadata": {},
   "source": [
    "Let's check the data duplication"
   ]
  },
  {
   "cell_type": "code",
   "execution_count": 12,
   "metadata": {},
   "outputs": [
    {
     "name": "stdout",
     "output_type": "stream",
     "text": [
      "Total data duplication: 0\n"
     ]
    }
   ],
   "source": [
    "print(\"Total data duplication:\", orders_df.duplicated().sum())"
   ]
  },
  {
   "cell_type": "markdown",
   "metadata": {},
   "source": [
    "Now we check the statistics parameters of the data"
   ]
  },
  {
   "cell_type": "code",
   "execution_count": 13,
   "metadata": {},
   "outputs": [
    {
     "data": {
      "text/html": [
       "<div>\n",
       "<style scoped>\n",
       "    .dataframe tbody tr th:only-of-type {\n",
       "        vertical-align: middle;\n",
       "    }\n",
       "\n",
       "    .dataframe tbody tr th {\n",
       "        vertical-align: top;\n",
       "    }\n",
       "\n",
       "    .dataframe thead th {\n",
       "        text-align: right;\n",
       "    }\n",
       "</style>\n",
       "<table border=\"1\" class=\"dataframe\">\n",
       "  <thead>\n",
       "    <tr style=\"text-align: right;\">\n",
       "      <th></th>\n",
       "      <th>count</th>\n",
       "      <th>mean</th>\n",
       "      <th>std</th>\n",
       "      <th>min</th>\n",
       "      <th>25%</th>\n",
       "      <th>50%</th>\n",
       "      <th>75%</th>\n",
       "      <th>max</th>\n",
       "    </tr>\n",
       "  </thead>\n",
       "  <tbody>\n",
       "    <tr>\n",
       "      <th>order_id</th>\n",
       "      <td>1000.0</td>\n",
       "      <td>500.500</td>\n",
       "      <td>288.819436</td>\n",
       "      <td>1.0</td>\n",
       "      <td>250.75</td>\n",
       "      <td>500.5</td>\n",
       "      <td>750.25</td>\n",
       "      <td>1000.0</td>\n",
       "    </tr>\n",
       "    <tr>\n",
       "      <th>customer_id</th>\n",
       "      <td>1000.0</td>\n",
       "      <td>506.640</td>\n",
       "      <td>277.115502</td>\n",
       "      <td>1.0</td>\n",
       "      <td>275.25</td>\n",
       "      <td>515.0</td>\n",
       "      <td>737.25</td>\n",
       "      <td>1000.0</td>\n",
       "    </tr>\n",
       "    <tr>\n",
       "      <th>payment</th>\n",
       "      <td>1000.0</td>\n",
       "      <td>33972.936</td>\n",
       "      <td>14451.609047</td>\n",
       "      <td>10043.0</td>\n",
       "      <td>21329.25</td>\n",
       "      <td>33697.5</td>\n",
       "      <td>46249.00</td>\n",
       "      <td>59910.0</td>\n",
       "    </tr>\n",
       "  </tbody>\n",
       "</table>\n",
       "</div>"
      ],
      "text/plain": [
       "              count       mean           std      min       25%      50%  \\\n",
       "order_id     1000.0    500.500    288.819436      1.0    250.75    500.5   \n",
       "customer_id  1000.0    506.640    277.115502      1.0    275.25    515.0   \n",
       "payment      1000.0  33972.936  14451.609047  10043.0  21329.25  33697.5   \n",
       "\n",
       "                  75%      max  \n",
       "order_id       750.25   1000.0  \n",
       "customer_id    737.25   1000.0  \n",
       "payment      46249.00  59910.0  "
      ]
     },
     "execution_count": 13,
     "metadata": {},
     "output_type": "execute_result"
    }
   ],
   "source": [
    "orders_df.describe().transpose()"
   ]
  },
  {
   "cell_type": "markdown",
   "metadata": {},
   "source": [
    "Nothing's odd from all of these parameters"
   ]
  },
  {
   "cell_type": "markdown",
   "metadata": {},
   "source": [
    "### Products table"
   ]
  },
  {
   "cell_type": "markdown",
   "metadata": {},
   "source": [
    "First, look at the data info"
   ]
  },
  {
   "cell_type": "code",
   "execution_count": 14,
   "metadata": {},
   "outputs": [
    {
     "name": "stdout",
     "output_type": "stream",
     "text": [
      "<class 'pandas.core.frame.DataFrame'>\n",
      "RangeIndex: 1266 entries, 0 to 1265\n",
      "Data columns (total 8 columns):\n",
      " #   Column        Non-Null Count  Dtype \n",
      "---  ------        --------------  ----- \n",
      " 0   product_id    1266 non-null   int64 \n",
      " 1   product_type  1266 non-null   object\n",
      " 2   product_name  1266 non-null   object\n",
      " 3   size          1266 non-null   object\n",
      " 4   colour        1266 non-null   object\n",
      " 5   price         1266 non-null   int64 \n",
      " 6   quantity      1266 non-null   int64 \n",
      " 7   description   1266 non-null   object\n",
      "dtypes: int64(3), object(5)\n",
      "memory usage: 79.3+ KB\n"
     ]
    }
   ],
   "source": [
    "products_df.info()"
   ]
  },
  {
   "cell_type": "markdown",
   "metadata": {},
   "source": [
    "since it seems there is no problem in it, let's check the duplication"
   ]
  },
  {
   "cell_type": "code",
   "execution_count": 15,
   "metadata": {},
   "outputs": [
    {
     "name": "stdout",
     "output_type": "stream",
     "text": [
      "Total data duplication: 6\n"
     ]
    }
   ],
   "source": [
    "print(\"Total data duplication:\", products_df.duplicated().sum())"
   ]
  },
  {
   "cell_type": "markdown",
   "metadata": {},
   "source": [
    "Data describe"
   ]
  },
  {
   "cell_type": "code",
   "execution_count": 16,
   "metadata": {},
   "outputs": [
    {
     "data": {
      "text/html": [
       "<div>\n",
       "<style scoped>\n",
       "    .dataframe tbody tr th:only-of-type {\n",
       "        vertical-align: middle;\n",
       "    }\n",
       "\n",
       "    .dataframe tbody tr th {\n",
       "        vertical-align: top;\n",
       "    }\n",
       "\n",
       "    .dataframe thead th {\n",
       "        text-align: right;\n",
       "    }\n",
       "</style>\n",
       "<table border=\"1\" class=\"dataframe\">\n",
       "  <thead>\n",
       "    <tr style=\"text-align: right;\">\n",
       "      <th></th>\n",
       "      <th>count</th>\n",
       "      <th>mean</th>\n",
       "      <th>std</th>\n",
       "      <th>min</th>\n",
       "      <th>25%</th>\n",
       "      <th>50%</th>\n",
       "      <th>75%</th>\n",
       "      <th>max</th>\n",
       "    </tr>\n",
       "  </thead>\n",
       "  <tbody>\n",
       "    <tr>\n",
       "      <th>product_id</th>\n",
       "      <td>1266.0</td>\n",
       "      <td>627.926540</td>\n",
       "      <td>363.971586</td>\n",
       "      <td>0.0</td>\n",
       "      <td>313.25</td>\n",
       "      <td>626.5</td>\n",
       "      <td>942.75</td>\n",
       "      <td>1259.0</td>\n",
       "    </tr>\n",
       "    <tr>\n",
       "      <th>price</th>\n",
       "      <td>1266.0</td>\n",
       "      <td>105.812006</td>\n",
       "      <td>9.715611</td>\n",
       "      <td>90.0</td>\n",
       "      <td>95.25</td>\n",
       "      <td>109.0</td>\n",
       "      <td>114.00</td>\n",
       "      <td>119.0</td>\n",
       "    </tr>\n",
       "    <tr>\n",
       "      <th>quantity</th>\n",
       "      <td>1266.0</td>\n",
       "      <td>60.138231</td>\n",
       "      <td>11.682791</td>\n",
       "      <td>40.0</td>\n",
       "      <td>50.00</td>\n",
       "      <td>60.0</td>\n",
       "      <td>70.00</td>\n",
       "      <td>80.0</td>\n",
       "    </tr>\n",
       "  </tbody>\n",
       "</table>\n",
       "</div>"
      ],
      "text/plain": [
       "             count        mean         std   min     25%    50%     75%  \\\n",
       "product_id  1266.0  627.926540  363.971586   0.0  313.25  626.5  942.75   \n",
       "price       1266.0  105.812006    9.715611  90.0   95.25  109.0  114.00   \n",
       "quantity    1266.0   60.138231   11.682791  40.0   50.00   60.0   70.00   \n",
       "\n",
       "               max  \n",
       "product_id  1259.0  \n",
       "price        119.0  \n",
       "quantity      80.0  "
      ]
     },
     "execution_count": 16,
     "metadata": {},
     "output_type": "execute_result"
    }
   ],
   "source": [
    "products_df.describe().transpose()"
   ]
  },
  {
   "cell_type": "markdown",
   "metadata": {},
   "source": [
    "### Sales table"
   ]
  },
  {
   "cell_type": "markdown",
   "metadata": {},
   "source": [
    "Look at the data information"
   ]
  },
  {
   "cell_type": "code",
   "execution_count": 18,
   "metadata": {},
   "outputs": [
    {
     "name": "stdout",
     "output_type": "stream",
     "text": [
      "<class 'pandas.core.frame.DataFrame'>\n",
      "RangeIndex: 5000 entries, 0 to 4999\n",
      "Data columns (total 6 columns):\n",
      " #   Column          Non-Null Count  Dtype  \n",
      "---  ------          --------------  -----  \n",
      " 0   sales_id        5000 non-null   int64  \n",
      " 1   order_id        5000 non-null   int64  \n",
      " 2   product_id      5000 non-null   int64  \n",
      " 3   price_per_unit  5000 non-null   int64  \n",
      " 4   quantity        5000 non-null   int64  \n",
      " 5   total_price     4981 non-null   float64\n",
      "dtypes: float64(1), int64(5)\n",
      "memory usage: 234.5 KB\n"
     ]
    }
   ],
   "source": [
    "sales_df.info()"
   ]
  },
  {
   "cell_type": "markdown",
   "metadata": {},
   "source": [
    "It seems there's a missing values in total_price column"
   ]
  },
  {
   "cell_type": "code",
   "execution_count": 19,
   "metadata": {},
   "outputs": [
    {
     "data": {
      "text/plain": [
       "sales_id           0\n",
       "order_id           0\n",
       "product_id         0\n",
       "price_per_unit     0\n",
       "quantity           0\n",
       "total_price       19\n",
       "dtype: int64"
      ]
     },
     "execution_count": 19,
     "metadata": {},
     "output_type": "execute_result"
    }
   ],
   "source": [
    "sales_df.isna().sum()"
   ]
  },
  {
   "cell_type": "code",
   "execution_count": 22,
   "metadata": {},
   "outputs": [
    {
     "name": "stdout",
     "output_type": "stream",
     "text": [
      "Total data duplication: 0\n"
     ]
    }
   ],
   "source": [
    "print(\"Total data duplication:\", sales_df.duplicated().sum())"
   ]
  },
  {
   "cell_type": "code",
   "execution_count": 23,
   "metadata": {},
   "outputs": [
    {
     "data": {
      "text/html": [
       "<div>\n",
       "<style scoped>\n",
       "    .dataframe tbody tr th:only-of-type {\n",
       "        vertical-align: middle;\n",
       "    }\n",
       "\n",
       "    .dataframe tbody tr th {\n",
       "        vertical-align: top;\n",
       "    }\n",
       "\n",
       "    .dataframe thead th {\n",
       "        text-align: right;\n",
       "    }\n",
       "</style>\n",
       "<table border=\"1\" class=\"dataframe\">\n",
       "  <thead>\n",
       "    <tr style=\"text-align: right;\">\n",
       "      <th></th>\n",
       "      <th>count</th>\n",
       "      <th>mean</th>\n",
       "      <th>std</th>\n",
       "      <th>min</th>\n",
       "      <th>25%</th>\n",
       "      <th>50%</th>\n",
       "      <th>75%</th>\n",
       "      <th>max</th>\n",
       "    </tr>\n",
       "  </thead>\n",
       "  <tbody>\n",
       "    <tr>\n",
       "      <th>sales_id</th>\n",
       "      <td>5000.0</td>\n",
       "      <td>2499.500000</td>\n",
       "      <td>1443.520003</td>\n",
       "      <td>0.0</td>\n",
       "      <td>1249.75</td>\n",
       "      <td>2499.5</td>\n",
       "      <td>3749.25</td>\n",
       "      <td>4999.0</td>\n",
       "    </tr>\n",
       "    <tr>\n",
       "      <th>order_id</th>\n",
       "      <td>5000.0</td>\n",
       "      <td>503.038200</td>\n",
       "      <td>285.964418</td>\n",
       "      <td>1.0</td>\n",
       "      <td>258.00</td>\n",
       "      <td>504.5</td>\n",
       "      <td>749.00</td>\n",
       "      <td>999.0</td>\n",
       "    </tr>\n",
       "    <tr>\n",
       "      <th>product_id</th>\n",
       "      <td>5000.0</td>\n",
       "      <td>634.053200</td>\n",
       "      <td>363.255794</td>\n",
       "      <td>1.0</td>\n",
       "      <td>323.00</td>\n",
       "      <td>635.0</td>\n",
       "      <td>951.00</td>\n",
       "      <td>1259.0</td>\n",
       "    </tr>\n",
       "    <tr>\n",
       "      <th>price_per_unit</th>\n",
       "      <td>5000.0</td>\n",
       "      <td>103.501600</td>\n",
       "      <td>9.195004</td>\n",
       "      <td>90.0</td>\n",
       "      <td>95.00</td>\n",
       "      <td>102.0</td>\n",
       "      <td>112.00</td>\n",
       "      <td>119.0</td>\n",
       "    </tr>\n",
       "    <tr>\n",
       "      <th>quantity</th>\n",
       "      <td>5000.0</td>\n",
       "      <td>1.992400</td>\n",
       "      <td>0.807510</td>\n",
       "      <td>1.0</td>\n",
       "      <td>1.00</td>\n",
       "      <td>2.0</td>\n",
       "      <td>3.00</td>\n",
       "      <td>3.0</td>\n",
       "    </tr>\n",
       "    <tr>\n",
       "      <th>total_price</th>\n",
       "      <td>4981.0</td>\n",
       "      <td>206.307368</td>\n",
       "      <td>86.352449</td>\n",
       "      <td>90.0</td>\n",
       "      <td>112.00</td>\n",
       "      <td>204.0</td>\n",
       "      <td>285.00</td>\n",
       "      <td>357.0</td>\n",
       "    </tr>\n",
       "  </tbody>\n",
       "</table>\n",
       "</div>"
      ],
      "text/plain": [
       "                 count         mean          std   min      25%     50%  \\\n",
       "sales_id        5000.0  2499.500000  1443.520003   0.0  1249.75  2499.5   \n",
       "order_id        5000.0   503.038200   285.964418   1.0   258.00   504.5   \n",
       "product_id      5000.0   634.053200   363.255794   1.0   323.00   635.0   \n",
       "price_per_unit  5000.0   103.501600     9.195004  90.0    95.00   102.0   \n",
       "quantity        5000.0     1.992400     0.807510   1.0     1.00     2.0   \n",
       "total_price     4981.0   206.307368    86.352449  90.0   112.00   204.0   \n",
       "\n",
       "                    75%     max  \n",
       "sales_id        3749.25  4999.0  \n",
       "order_id         749.00   999.0  \n",
       "product_id       951.00  1259.0  \n",
       "price_per_unit   112.00   119.0  \n",
       "quantity           3.00     3.0  \n",
       "total_price      285.00   357.0  "
      ]
     },
     "execution_count": 23,
     "metadata": {},
     "output_type": "execute_result"
    }
   ],
   "source": [
    "sales_df.describe().transpose()"
   ]
  },
  {
   "cell_type": "markdown",
   "metadata": {},
   "source": [
    "No abnormalities within the data"
   ]
  },
  {
   "cell_type": "markdown",
   "metadata": {},
   "source": [
    "### Data assesment conclusions"
   ]
  },
  {
   "attachments": {
    "e134a637-1290-4e49-9562-dc5cba56ad5e.png": {
     "image/png": "[encoded data removed]"
    }
   },
   "cell_type": "markdown",
   "metadata": {},
   "source": [
    "![image.png](attachment:e134a637-1290-4e49-9562-dc5cba56ad5e.png)"
   ]
  },
  {
   "cell_type": "markdown",
   "metadata": {},
   "source": [
    "# Cleaning Data"
   ]
  },
  {
   "cell_type": "code",
   "execution_count": 152,
   "metadata": {},
   "outputs": [],
   "source": [
    "def check_duplicate(data):\n",
    "    print(f\"Total Data Duplication:\", data.duplicated().sum())"
   ]
  },
  {
   "cell_type": "markdown",
   "metadata": {},
   "source": [
    "### Cleaning customer_df data "
   ]
  },
  {
   "cell_type": "markdown",
   "metadata": {},
   "source": [
    "#### Eliminating Duplicate Data"
   ]
  },
  {
   "cell_type": "code",
   "execution_count": 153,
   "metadata": {},
   "outputs": [
    {
     "name": "stdout",
     "output_type": "stream",
     "text": [
      "Total Data Duplication: 0\n"
     ]
    }
   ],
   "source": [
    "customer_df_noduplicate = customers_df.drop_duplicates()\n",
    "check_duplicate(customer_df_noduplicate)"
   ]
  },
  {
   "cell_type": "markdown",
   "metadata": {},
   "source": [
    "#### Handling Missing Values in gender column"
   ]
  },
  {
   "cell_type": "code",
   "execution_count": 154,
   "metadata": {},
   "outputs": [
    {
     "data": {
      "text/html": [
       "<div>\n",
       "<style scoped>\n",
       "    .dataframe tbody tr th:only-of-type {\n",
       "        vertical-align: middle;\n",
       "    }\n",
       "\n",
       "    .dataframe tbody tr th {\n",
       "        vertical-align: top;\n",
       "    }\n",
       "\n",
       "    .dataframe thead th {\n",
       "        text-align: right;\n",
       "    }\n",
       "</style>\n",
       "<table border=\"1\" class=\"dataframe\">\n",
       "  <thead>\n",
       "    <tr style=\"text-align: right;\">\n",
       "      <th></th>\n",
       "      <th>customer_id</th>\n",
       "      <th>customer_name</th>\n",
       "      <th>gender</th>\n",
       "      <th>age</th>\n",
       "      <th>home_address</th>\n",
       "      <th>zip_code</th>\n",
       "      <th>city</th>\n",
       "      <th>state</th>\n",
       "      <th>country</th>\n",
       "    </tr>\n",
       "  </thead>\n",
       "  <tbody>\n",
       "    <tr>\n",
       "      <th>38</th>\n",
       "      <td>39</td>\n",
       "      <td>fulan 39</td>\n",
       "      <td>NaN</td>\n",
       "      <td>80</td>\n",
       "      <td>7440 Cameron Estate DrSuite 628</td>\n",
       "      <td>4622</td>\n",
       "      <td>North Victoriachester</td>\n",
       "      <td>Northern Territory</td>\n",
       "      <td>Australia</td>\n",
       "    </tr>\n",
       "    <tr>\n",
       "      <th>167</th>\n",
       "      <td>168</td>\n",
       "      <td>fulan 168</td>\n",
       "      <td>NaN</td>\n",
       "      <td>27</td>\n",
       "      <td>2781 Berge MallSuite 452</td>\n",
       "      <td>1975</td>\n",
       "      <td>North Leoburgh</td>\n",
       "      <td>Western Australia</td>\n",
       "      <td>Australia</td>\n",
       "    </tr>\n",
       "    <tr>\n",
       "      <th>322</th>\n",
       "      <td>322</td>\n",
       "      <td>fulan 322</td>\n",
       "      <td>NaN</td>\n",
       "      <td>30</td>\n",
       "      <td>593 Becker CircleApt. 333</td>\n",
       "      <td>1640</td>\n",
       "      <td>Jacobiview</td>\n",
       "      <td>Western Australia</td>\n",
       "      <td>Australia</td>\n",
       "    </tr>\n",
       "    <tr>\n",
       "      <th>393</th>\n",
       "      <td>393</td>\n",
       "      <td>fulan 393</td>\n",
       "      <td>NaN</td>\n",
       "      <td>34</td>\n",
       "      <td>5158 Levi HillSuite 531</td>\n",
       "      <td>1474</td>\n",
       "      <td>Johnsburgh</td>\n",
       "      <td>Queensland</td>\n",
       "      <td>Australia</td>\n",
       "    </tr>\n",
       "    <tr>\n",
       "      <th>442</th>\n",
       "      <td>442</td>\n",
       "      <td>fulan 442</td>\n",
       "      <td>NaN</td>\n",
       "      <td>26</td>\n",
       "      <td>5157 Feil RoadApt. 633</td>\n",
       "      <td>7249</td>\n",
       "      <td>Port Chloe</td>\n",
       "      <td>New South Wales</td>\n",
       "      <td>Australia</td>\n",
       "    </tr>\n",
       "    <tr>\n",
       "      <th>722</th>\n",
       "      <td>720</td>\n",
       "      <td>fulan 720</td>\n",
       "      <td>NaN</td>\n",
       "      <td>40</td>\n",
       "      <td>31 Jordan ParadeApt. 400</td>\n",
       "      <td>1380</td>\n",
       "      <td>West Henry</td>\n",
       "      <td>South Australia</td>\n",
       "      <td>Australia</td>\n",
       "    </tr>\n",
       "    <tr>\n",
       "      <th>745</th>\n",
       "      <td>743</td>\n",
       "      <td>fulan 743</td>\n",
       "      <td>NaN</td>\n",
       "      <td>57</td>\n",
       "      <td>09 Christopher StreetSuite 967</td>\n",
       "      <td>6226</td>\n",
       "      <td>Lake Lukemouth</td>\n",
       "      <td>Western Australia</td>\n",
       "      <td>Australia</td>\n",
       "    </tr>\n",
       "    <tr>\n",
       "      <th>773</th>\n",
       "      <td>771</td>\n",
       "      <td>fulan 771</td>\n",
       "      <td>NaN</td>\n",
       "      <td>74</td>\n",
       "      <td>7367 Wright JunctionApt. 773</td>\n",
       "      <td>8882</td>\n",
       "      <td>Kuhntown</td>\n",
       "      <td>Victoria</td>\n",
       "      <td>Australia</td>\n",
       "    </tr>\n",
       "    <tr>\n",
       "      <th>798</th>\n",
       "      <td>795</td>\n",
       "      <td>fulan 795</td>\n",
       "      <td>NaN</td>\n",
       "      <td>49</td>\n",
       "      <td>487 Summer MewsApt. 874</td>\n",
       "      <td>1712</td>\n",
       "      <td>East Hayden</td>\n",
       "      <td>Australian Capital Territory</td>\n",
       "      <td>Australia</td>\n",
       "    </tr>\n",
       "    <tr>\n",
       "      <th>801</th>\n",
       "      <td>798</td>\n",
       "      <td>fulan 798</td>\n",
       "      <td>NaN</td>\n",
       "      <td>56</td>\n",
       "      <td>27 Aiden KnollApt. 875</td>\n",
       "      <td>6531</td>\n",
       "      <td>Port Sam</td>\n",
       "      <td>Australian Capital Territory</td>\n",
       "      <td>Australia</td>\n",
       "    </tr>\n",
       "    <tr>\n",
       "      <th>825</th>\n",
       "      <td>822</td>\n",
       "      <td>fulan 822</td>\n",
       "      <td>NaN</td>\n",
       "      <td>59</td>\n",
       "      <td>41 Jenkins KnollSuite 438</td>\n",
       "      <td>2588</td>\n",
       "      <td>Lake Andrewport</td>\n",
       "      <td>South Australia</td>\n",
       "      <td>Australia</td>\n",
       "    </tr>\n",
       "    <tr>\n",
       "      <th>859</th>\n",
       "      <td>855</td>\n",
       "      <td>fulan 855</td>\n",
       "      <td>NaN</td>\n",
       "      <td>55</td>\n",
       "      <td>603 O'keefe KnollSuite 782</td>\n",
       "      <td>8822</td>\n",
       "      <td>Port Dylanmouth</td>\n",
       "      <td>Tasmania</td>\n",
       "      <td>Australia</td>\n",
       "    </tr>\n",
       "    <tr>\n",
       "      <th>863</th>\n",
       "      <td>859</td>\n",
       "      <td>fulan 859</td>\n",
       "      <td>NaN</td>\n",
       "      <td>38</td>\n",
       "      <td>32 Isla GroveApt. 078</td>\n",
       "      <td>7711</td>\n",
       "      <td>Rosechester</td>\n",
       "      <td>New South Wales</td>\n",
       "      <td>Australia</td>\n",
       "    </tr>\n",
       "    <tr>\n",
       "      <th>914</th>\n",
       "      <td>909</td>\n",
       "      <td>fulan 909</td>\n",
       "      <td>NaN</td>\n",
       "      <td>62</td>\n",
       "      <td>976 Murray Station StApt. 036</td>\n",
       "      <td>3227</td>\n",
       "      <td>Langfort</td>\n",
       "      <td>Tasmania</td>\n",
       "      <td>Australia</td>\n",
       "    </tr>\n",
       "    <tr>\n",
       "      <th>934</th>\n",
       "      <td>929</td>\n",
       "      <td>fulan 929</td>\n",
       "      <td>NaN</td>\n",
       "      <td>68</td>\n",
       "      <td>394 Lily HillSuite 153</td>\n",
       "      <td>2353</td>\n",
       "      <td>Beahanfurt</td>\n",
       "      <td>Northern Territory</td>\n",
       "      <td>Australia</td>\n",
       "    </tr>\n",
       "    <tr>\n",
       "      <th>948</th>\n",
       "      <td>943</td>\n",
       "      <td>fulan 943</td>\n",
       "      <td>NaN</td>\n",
       "      <td>64</td>\n",
       "      <td>3117 Heller PlaceSuite 149</td>\n",
       "      <td>822</td>\n",
       "      <td>North Elijah</td>\n",
       "      <td>South Australia</td>\n",
       "      <td>Australia</td>\n",
       "    </tr>\n",
       "    <tr>\n",
       "      <th>952</th>\n",
       "      <td>946</td>\n",
       "      <td>fulan 946</td>\n",
       "      <td>NaN</td>\n",
       "      <td>24</td>\n",
       "      <td>8227 Nicholas HillSuite 150</td>\n",
       "      <td>115</td>\n",
       "      <td>South Jasper</td>\n",
       "      <td>Queensland</td>\n",
       "      <td>Australia</td>\n",
       "    </tr>\n",
       "    <tr>\n",
       "      <th>994</th>\n",
       "      <td>988</td>\n",
       "      <td>fulan 988</td>\n",
       "      <td>NaN</td>\n",
       "      <td>35</td>\n",
       "      <td>1130 Turner Estate DrSuite 925</td>\n",
       "      <td>9386</td>\n",
       "      <td>New Harry</td>\n",
       "      <td>Western Australia</td>\n",
       "      <td>Australia</td>\n",
       "    </tr>\n",
       "  </tbody>\n",
       "</table>\n",
       "</div>"
      ],
      "text/plain": [
       "     customer_id customer_name gender  age                     home_address  \\\n",
       "38            39      fulan 39    NaN   80  7440 Cameron Estate DrSuite 628   \n",
       "167          168     fulan 168    NaN   27         2781 Berge MallSuite 452   \n",
       "322          322     fulan 322    NaN   30        593 Becker CircleApt. 333   \n",
       "393          393     fulan 393    NaN   34          5158 Levi HillSuite 531   \n",
       "442          442     fulan 442    NaN   26           5157 Feil RoadApt. 633   \n",
       "722          720     fulan 720    NaN   40         31 Jordan ParadeApt. 400   \n",
       "745          743     fulan 743    NaN   57   09 Christopher StreetSuite 967   \n",
       "773          771     fulan 771    NaN   74     7367 Wright JunctionApt. 773   \n",
       "798          795     fulan 795    NaN   49          487 Summer MewsApt. 874   \n",
       "801          798     fulan 798    NaN   56           27 Aiden KnollApt. 875   \n",
       "825          822     fulan 822    NaN   59        41 Jenkins KnollSuite 438   \n",
       "859          855     fulan 855    NaN   55       603 O'keefe KnollSuite 782   \n",
       "863          859     fulan 859    NaN   38            32 Isla GroveApt. 078   \n",
       "914          909     fulan 909    NaN   62    976 Murray Station StApt. 036   \n",
       "934          929     fulan 929    NaN   68           394 Lily HillSuite 153   \n",
       "948          943     fulan 943    NaN   64       3117 Heller PlaceSuite 149   \n",
       "952          946     fulan 946    NaN   24      8227 Nicholas HillSuite 150   \n",
       "994          988     fulan 988    NaN   35   1130 Turner Estate DrSuite 925   \n",
       "\n",
       "     zip_code                   city                         state    country  \n",
       "38       4622  North Victoriachester            Northern Territory  Australia  \n",
       "167      1975         North Leoburgh             Western Australia  Australia  \n",
       "322      1640             Jacobiview             Western Australia  Australia  \n",
       "393      1474             Johnsburgh                    Queensland  Australia  \n",
       "442      7249             Port Chloe               New South Wales  Australia  \n",
       "722      1380             West Henry               South Australia  Australia  \n",
       "745      6226         Lake Lukemouth             Western Australia  Australia  \n",
       "773      8882               Kuhntown                      Victoria  Australia  \n",
       "798      1712            East Hayden  Australian Capital Territory  Australia  \n",
       "801      6531               Port Sam  Australian Capital Territory  Australia  \n",
       "825      2588        Lake Andrewport               South Australia  Australia  \n",
       "859      8822        Port Dylanmouth                      Tasmania  Australia  \n",
       "863      7711            Rosechester               New South Wales  Australia  \n",
       "914      3227               Langfort                      Tasmania  Australia  \n",
       "934      2353             Beahanfurt            Northern Territory  Australia  \n",
       "948       822           North Elijah               South Australia  Australia  \n",
       "952       115           South Jasper                    Queensland  Australia  \n",
       "994      9386              New Harry             Western Australia  Australia  "
      ]
     },
     "execution_count": 154,
     "metadata": {},
     "output_type": "execute_result"
    }
   ],
   "source": [
    "customer_df_noduplicate[customer_df_noduplicate[\"gender\"].isna()]"
   ]
  },
  {
   "cell_type": "markdown",
   "metadata": {},
   "source": [
    "#### Find the most dominant missing value in gender column using value_counts()"
   ]
  },
  {
   "cell_type": "code",
   "execution_count": 155,
   "metadata": {},
   "outputs": [
    {
     "data": {
      "text/plain": [
       "gender\n",
       "Prefer not to say    725\n",
       "Male                 143\n",
       "Female               115\n",
       "Name: count, dtype: int64"
      ]
     },
     "execution_count": 155,
     "metadata": {},
     "output_type": "execute_result"
    }
   ],
   "source": [
    "customer_df_noduplicate[\"gender\"].value_counts()"
   ]
  },
  {
   "cell_type": "markdown",
   "metadata": {},
   "source": [
    "We can fill its missing values as it is"
   ]
  },
  {
   "cell_type": "code",
   "execution_count": 156,
   "metadata": {},
   "outputs": [
    {
     "data": {
      "text/plain": [
       "customer_id      0\n",
       "customer_name    0\n",
       "gender           0\n",
       "age              0\n",
       "home_address     0\n",
       "zip_code         0\n",
       "city             0\n",
       "state            0\n",
       "country          0\n",
       "dtype: int64"
      ]
     },
     "execution_count": 156,
     "metadata": {},
     "output_type": "execute_result"
    }
   ],
   "source": [
    "no_missing_customers_df = customer_df_noduplicate.fillna(value=\"Prefer not to say\")\n",
    "no_missing_customers_df.isna().sum()"
   ]
  },
  {
   "cell_type": "markdown",
   "metadata": {},
   "source": [
    "#### Handling the inaccurate values of age column"
   ]
  },
  {
   "cell_type": "code",
   "execution_count": 157,
   "metadata": {},
   "outputs": [],
   "source": [
    "def find_max_df(data, col):\n",
    "    return data[data[col] == data[col].max()]"
   ]
  },
  {
   "cell_type": "code",
   "execution_count": 158,
   "metadata": {},
   "outputs": [
    {
     "data": {
      "text/html": [
       "<div>\n",
       "<style scoped>\n",
       "    .dataframe tbody tr th:only-of-type {\n",
       "        vertical-align: middle;\n",
       "    }\n",
       "\n",
       "    .dataframe tbody tr th {\n",
       "        vertical-align: top;\n",
       "    }\n",
       "\n",
       "    .dataframe thead th {\n",
       "        text-align: right;\n",
       "    }\n",
       "</style>\n",
       "<table border=\"1\" class=\"dataframe\">\n",
       "  <thead>\n",
       "    <tr style=\"text-align: right;\">\n",
       "      <th></th>\n",
       "      <th>customer_id</th>\n",
       "      <th>customer_name</th>\n",
       "      <th>gender</th>\n",
       "      <th>age</th>\n",
       "      <th>home_address</th>\n",
       "      <th>zip_code</th>\n",
       "      <th>city</th>\n",
       "      <th>state</th>\n",
       "      <th>country</th>\n",
       "    </tr>\n",
       "  </thead>\n",
       "  <tbody>\n",
       "    <tr>\n",
       "      <th>967</th>\n",
       "      <td>961</td>\n",
       "      <td>fulan 961</td>\n",
       "      <td>Prefer not to say</td>\n",
       "      <td>700</td>\n",
       "      <td>29 Farrell ParadeSuite 818</td>\n",
       "      <td>6528</td>\n",
       "      <td>New Joseph</td>\n",
       "      <td>South Australia</td>\n",
       "      <td>Australia</td>\n",
       "    </tr>\n",
       "  </tbody>\n",
       "</table>\n",
       "</div>"
      ],
      "text/plain": [
       "     customer_id customer_name             gender  age  \\\n",
       "967          961     fulan 961  Prefer not to say  700   \n",
       "\n",
       "                   home_address  zip_code        city            state  \\\n",
       "967  29 Farrell ParadeSuite 818      6528  New Joseph  South Australia   \n",
       "\n",
       "       country  \n",
       "967  Australia  "
      ]
     },
     "execution_count": 158,
     "metadata": {},
     "output_type": "execute_result"
    }
   ],
   "source": [
    "find_max(no_missing_customers_df, \"age\")"
   ]
  },
  {
   "cell_type": "markdown",
   "metadata": {},
   "source": [
    "we can assume that the inaccurate value occured due to human error. We can replace it with 70"
   ]
  },
  {
   "cell_type": "code",
   "execution_count": 159,
   "metadata": {},
   "outputs": [
    {
     "data": {
      "text/html": [
       "<div>\n",
       "<style scoped>\n",
       "    .dataframe tbody tr th:only-of-type {\n",
       "        vertical-align: middle;\n",
       "    }\n",
       "\n",
       "    .dataframe tbody tr th {\n",
       "        vertical-align: top;\n",
       "    }\n",
       "\n",
       "    .dataframe thead th {\n",
       "        text-align: right;\n",
       "    }\n",
       "</style>\n",
       "<table border=\"1\" class=\"dataframe\">\n",
       "  <thead>\n",
       "    <tr style=\"text-align: right;\">\n",
       "      <th></th>\n",
       "      <th>customer_id</th>\n",
       "      <th>customer_name</th>\n",
       "      <th>gender</th>\n",
       "      <th>age</th>\n",
       "      <th>home_address</th>\n",
       "      <th>zip_code</th>\n",
       "      <th>city</th>\n",
       "      <th>state</th>\n",
       "      <th>country</th>\n",
       "    </tr>\n",
       "  </thead>\n",
       "  <tbody>\n",
       "    <tr>\n",
       "      <th>215</th>\n",
       "      <td>216</td>\n",
       "      <td>fulan 216</td>\n",
       "      <td>Prefer not to say</td>\n",
       "      <td>500</td>\n",
       "      <td>038 Haley MewsApt. 810</td>\n",
       "      <td>3991</td>\n",
       "      <td>Bayertown</td>\n",
       "      <td>Northern Territory</td>\n",
       "      <td>Australia</td>\n",
       "    </tr>\n",
       "  </tbody>\n",
       "</table>\n",
       "</div>"
      ],
      "text/plain": [
       "     customer_id customer_name             gender  age  \\\n",
       "215          216     fulan 216  Prefer not to say  500   \n",
       "\n",
       "               home_address  zip_code       city               state  \\\n",
       "215  038 Haley MewsApt. 810      3991  Bayertown  Northern Territory   \n",
       "\n",
       "       country  \n",
       "215  Australia  "
      ]
     },
     "execution_count": 159,
     "metadata": {},
     "output_type": "execute_result"
    }
   ],
   "source": [
    "clean_cust_df = no_missing_customers_df.replace(no_missing_customers_df[\"age\"].max(), 70)\n",
    "find_max(clean_cust_df, \"age\")"
   ]
  },
  {
   "cell_type": "code",
   "execution_count": 160,
   "metadata": {},
   "outputs": [
    {
     "data": {
      "text/html": [
       "<div>\n",
       "<style scoped>\n",
       "    .dataframe tbody tr th:only-of-type {\n",
       "        vertical-align: middle;\n",
       "    }\n",
       "\n",
       "    .dataframe tbody tr th {\n",
       "        vertical-align: top;\n",
       "    }\n",
       "\n",
       "    .dataframe thead th {\n",
       "        text-align: right;\n",
       "    }\n",
       "</style>\n",
       "<table border=\"1\" class=\"dataframe\">\n",
       "  <thead>\n",
       "    <tr style=\"text-align: right;\">\n",
       "      <th></th>\n",
       "      <th>customer_id</th>\n",
       "      <th>age</th>\n",
       "      <th>zip_code</th>\n",
       "    </tr>\n",
       "  </thead>\n",
       "  <tbody>\n",
       "    <tr>\n",
       "      <th>count</th>\n",
       "      <td>1001.000000</td>\n",
       "      <td>1001.000000</td>\n",
       "      <td>1001.000000</td>\n",
       "    </tr>\n",
       "    <tr>\n",
       "      <th>mean</th>\n",
       "      <td>500.312687</td>\n",
       "      <td>50.323676</td>\n",
       "      <td>5000.693307</td>\n",
       "    </tr>\n",
       "    <tr>\n",
       "      <th>std</th>\n",
       "      <td>289.265537</td>\n",
       "      <td>22.665946</td>\n",
       "      <td>2886.084454</td>\n",
       "    </tr>\n",
       "    <tr>\n",
       "      <th>min</th>\n",
       "      <td>1.000000</td>\n",
       "      <td>20.000000</td>\n",
       "      <td>2.000000</td>\n",
       "    </tr>\n",
       "    <tr>\n",
       "      <th>25%</th>\n",
       "      <td>250.000000</td>\n",
       "      <td>34.000000</td>\n",
       "      <td>2398.000000</td>\n",
       "    </tr>\n",
       "    <tr>\n",
       "      <th>50%</th>\n",
       "      <td>500.000000</td>\n",
       "      <td>50.000000</td>\n",
       "      <td>5079.000000</td>\n",
       "    </tr>\n",
       "    <tr>\n",
       "      <th>75%</th>\n",
       "      <td>751.000000</td>\n",
       "      <td>65.000000</td>\n",
       "      <td>7454.000000</td>\n",
       "    </tr>\n",
       "    <tr>\n",
       "      <th>max</th>\n",
       "      <td>1000.000000</td>\n",
       "      <td>500.000000</td>\n",
       "      <td>9998.000000</td>\n",
       "    </tr>\n",
       "  </tbody>\n",
       "</table>\n",
       "</div>"
      ],
      "text/plain": [
       "       customer_id          age     zip_code\n",
       "count  1001.000000  1001.000000  1001.000000\n",
       "mean    500.312687    50.323676  5000.693307\n",
       "std     289.265537    22.665946  2886.084454\n",
       "min       1.000000    20.000000     2.000000\n",
       "25%     250.000000    34.000000  2398.000000\n",
       "50%     500.000000    50.000000  5079.000000\n",
       "75%     751.000000    65.000000  7454.000000\n",
       "max    1000.000000   500.000000  9998.000000"
      ]
     },
     "execution_count": 160,
     "metadata": {},
     "output_type": "execute_result"
    }
   ],
   "source": [
    "clean_cust_df.describe()"
   ]
  },
  {
   "cell_type": "markdown",
   "metadata": {},
   "source": [
    "There is still an odd data in age column, let's replace it"
   ]
  },
  {
   "cell_type": "code",
   "execution_count": 161,
   "metadata": {},
   "outputs": [
    {
     "data": {
      "text/html": [
       "<div>\n",
       "<style scoped>\n",
       "    .dataframe tbody tr th:only-of-type {\n",
       "        vertical-align: middle;\n",
       "    }\n",
       "\n",
       "    .dataframe tbody tr th {\n",
       "        vertical-align: top;\n",
       "    }\n",
       "\n",
       "    .dataframe thead th {\n",
       "        text-align: right;\n",
       "    }\n",
       "</style>\n",
       "<table border=\"1\" class=\"dataframe\">\n",
       "  <thead>\n",
       "    <tr style=\"text-align: right;\">\n",
       "      <th></th>\n",
       "      <th>customer_id</th>\n",
       "      <th>customer_name</th>\n",
       "      <th>gender</th>\n",
       "      <th>age</th>\n",
       "      <th>home_address</th>\n",
       "      <th>zip_code</th>\n",
       "      <th>city</th>\n",
       "      <th>state</th>\n",
       "      <th>country</th>\n",
       "    </tr>\n",
       "  </thead>\n",
       "  <tbody>\n",
       "    <tr>\n",
       "      <th>34</th>\n",
       "      <td>35</td>\n",
       "      <td>fulan 35</td>\n",
       "      <td>Male</td>\n",
       "      <td>80</td>\n",
       "      <td>3168 Bartoletti CrescentSuite 878</td>\n",
       "      <td>593</td>\n",
       "      <td>Port Lucas</td>\n",
       "      <td>Queensland</td>\n",
       "      <td>Australia</td>\n",
       "    </tr>\n",
       "    <tr>\n",
       "      <th>38</th>\n",
       "      <td>39</td>\n",
       "      <td>fulan 39</td>\n",
       "      <td>Prefer not to say</td>\n",
       "      <td>80</td>\n",
       "      <td>7440 Cameron Estate DrSuite 628</td>\n",
       "      <td>4622</td>\n",
       "      <td>North Victoriachester</td>\n",
       "      <td>Northern Territory</td>\n",
       "      <td>Australia</td>\n",
       "    </tr>\n",
       "    <tr>\n",
       "      <th>142</th>\n",
       "      <td>143</td>\n",
       "      <td>fulan 143</td>\n",
       "      <td>Prefer not to say</td>\n",
       "      <td>80</td>\n",
       "      <td>87 Hahn Station StSuite 943</td>\n",
       "      <td>8254</td>\n",
       "      <td>New Ella</td>\n",
       "      <td>Victoria</td>\n",
       "      <td>Australia</td>\n",
       "    </tr>\n",
       "    <tr>\n",
       "      <th>154</th>\n",
       "      <td>155</td>\n",
       "      <td>fulan 155</td>\n",
       "      <td>Male</td>\n",
       "      <td>80</td>\n",
       "      <td>85 Charles MallSuite 424</td>\n",
       "      <td>7841</td>\n",
       "      <td>Port Sophia</td>\n",
       "      <td>New South Wales</td>\n",
       "      <td>Australia</td>\n",
       "    </tr>\n",
       "    <tr>\n",
       "      <th>170</th>\n",
       "      <td>171</td>\n",
       "      <td>fulan 171</td>\n",
       "      <td>Prefer not to say</td>\n",
       "      <td>80</td>\n",
       "      <td>16 Boyer WaySuite 018</td>\n",
       "      <td>6226</td>\n",
       "      <td>South Gabriel</td>\n",
       "      <td>Western Australia</td>\n",
       "      <td>Australia</td>\n",
       "    </tr>\n",
       "    <tr>\n",
       "      <th>174</th>\n",
       "      <td>175</td>\n",
       "      <td>fulan 175</td>\n",
       "      <td>Prefer not to say</td>\n",
       "      <td>80</td>\n",
       "      <td>57 David MallSuite 596</td>\n",
       "      <td>3129</td>\n",
       "      <td>Haneton</td>\n",
       "      <td>South Australia</td>\n",
       "      <td>Australia</td>\n",
       "    </tr>\n",
       "    <tr>\n",
       "      <th>181</th>\n",
       "      <td>182</td>\n",
       "      <td>fulan 182</td>\n",
       "      <td>Male</td>\n",
       "      <td>80</td>\n",
       "      <td>32 Thomas CrestSuite 753</td>\n",
       "      <td>2147</td>\n",
       "      <td>Archiefurt</td>\n",
       "      <td>Queensland</td>\n",
       "      <td>Australia</td>\n",
       "    </tr>\n",
       "    <tr>\n",
       "      <th>235</th>\n",
       "      <td>236</td>\n",
       "      <td>fulan 236</td>\n",
       "      <td>Prefer not to say</td>\n",
       "      <td>80</td>\n",
       "      <td>64 Phillips RunApt. 722</td>\n",
       "      <td>2752</td>\n",
       "      <td>East Sienna</td>\n",
       "      <td>New South Wales</td>\n",
       "      <td>Australia</td>\n",
       "    </tr>\n",
       "    <tr>\n",
       "      <th>424</th>\n",
       "      <td>424</td>\n",
       "      <td>fulan 424</td>\n",
       "      <td>Prefer not to say</td>\n",
       "      <td>80</td>\n",
       "      <td>03 Grant CrestSuite 228</td>\n",
       "      <td>5743</td>\n",
       "      <td>Lake Charliemouth</td>\n",
       "      <td>Western Australia</td>\n",
       "      <td>Australia</td>\n",
       "    </tr>\n",
       "    <tr>\n",
       "      <th>438</th>\n",
       "      <td>438</td>\n",
       "      <td>fulan 438</td>\n",
       "      <td>Prefer not to say</td>\n",
       "      <td>80</td>\n",
       "      <td>569 Alyssa IslandApt. 766</td>\n",
       "      <td>6893</td>\n",
       "      <td>Hunterland</td>\n",
       "      <td>Western Australia</td>\n",
       "      <td>Australia</td>\n",
       "    </tr>\n",
       "    <tr>\n",
       "      <th>495</th>\n",
       "      <td>495</td>\n",
       "      <td>fulan 495</td>\n",
       "      <td>Male</td>\n",
       "      <td>80</td>\n",
       "      <td>1798 Schultz MewsApt. 704</td>\n",
       "      <td>9409</td>\n",
       "      <td>Lake Caitlin</td>\n",
       "      <td>New South Wales</td>\n",
       "      <td>Australia</td>\n",
       "    </tr>\n",
       "    <tr>\n",
       "      <th>524</th>\n",
       "      <td>524</td>\n",
       "      <td>fulan 524</td>\n",
       "      <td>Prefer not to say</td>\n",
       "      <td>80</td>\n",
       "      <td>0358 Ashley WayApt. 506</td>\n",
       "      <td>3345</td>\n",
       "      <td>Port Sebastianland</td>\n",
       "      <td>Queensland</td>\n",
       "      <td>Australia</td>\n",
       "    </tr>\n",
       "    <tr>\n",
       "      <th>598</th>\n",
       "      <td>597</td>\n",
       "      <td>fulan 597</td>\n",
       "      <td>Prefer not to say</td>\n",
       "      <td>80</td>\n",
       "      <td>78 O'hara CircuitApt. 096</td>\n",
       "      <td>1966</td>\n",
       "      <td>Lake Michaelbury</td>\n",
       "      <td>South Australia</td>\n",
       "      <td>Australia</td>\n",
       "    </tr>\n",
       "    <tr>\n",
       "      <th>703</th>\n",
       "      <td>702</td>\n",
       "      <td>fulan 702</td>\n",
       "      <td>Prefer not to say</td>\n",
       "      <td>80</td>\n",
       "      <td>61 Bosco WaySuite 775</td>\n",
       "      <td>685</td>\n",
       "      <td>Thompsonborough</td>\n",
       "      <td>Western Australia</td>\n",
       "      <td>Australia</td>\n",
       "    </tr>\n",
       "    <tr>\n",
       "      <th>734</th>\n",
       "      <td>732</td>\n",
       "      <td>fulan 732</td>\n",
       "      <td>Prefer not to say</td>\n",
       "      <td>80</td>\n",
       "      <td>905 Stephanie BoulevardApt. 217</td>\n",
       "      <td>8114</td>\n",
       "      <td>Port Aaronton</td>\n",
       "      <td>Queensland</td>\n",
       "      <td>Australia</td>\n",
       "    </tr>\n",
       "  </tbody>\n",
       "</table>\n",
       "</div>"
      ],
      "text/plain": [
       "     customer_id customer_name             gender  age  \\\n",
       "34            35      fulan 35               Male   80   \n",
       "38            39      fulan 39  Prefer not to say   80   \n",
       "142          143     fulan 143  Prefer not to say   80   \n",
       "154          155     fulan 155               Male   80   \n",
       "170          171     fulan 171  Prefer not to say   80   \n",
       "174          175     fulan 175  Prefer not to say   80   \n",
       "181          182     fulan 182               Male   80   \n",
       "235          236     fulan 236  Prefer not to say   80   \n",
       "424          424     fulan 424  Prefer not to say   80   \n",
       "438          438     fulan 438  Prefer not to say   80   \n",
       "495          495     fulan 495               Male   80   \n",
       "524          524     fulan 524  Prefer not to say   80   \n",
       "598          597     fulan 597  Prefer not to say   80   \n",
       "703          702     fulan 702  Prefer not to say   80   \n",
       "734          732     fulan 732  Prefer not to say   80   \n",
       "\n",
       "                          home_address  zip_code                   city  \\\n",
       "34   3168 Bartoletti CrescentSuite 878       593             Port Lucas   \n",
       "38     7440 Cameron Estate DrSuite 628      4622  North Victoriachester   \n",
       "142        87 Hahn Station StSuite 943      8254               New Ella   \n",
       "154           85 Charles MallSuite 424      7841            Port Sophia   \n",
       "170              16 Boyer WaySuite 018      6226          South Gabriel   \n",
       "174             57 David MallSuite 596      3129                Haneton   \n",
       "181           32 Thomas CrestSuite 753      2147             Archiefurt   \n",
       "235            64 Phillips RunApt. 722      2752            East Sienna   \n",
       "424            03 Grant CrestSuite 228      5743      Lake Charliemouth   \n",
       "438          569 Alyssa IslandApt. 766      6893             Hunterland   \n",
       "495          1798 Schultz MewsApt. 704      9409           Lake Caitlin   \n",
       "524            0358 Ashley WayApt. 506      3345     Port Sebastianland   \n",
       "598          78 O'hara CircuitApt. 096      1966       Lake Michaelbury   \n",
       "703              61 Bosco WaySuite 775       685        Thompsonborough   \n",
       "734    905 Stephanie BoulevardApt. 217      8114          Port Aaronton   \n",
       "\n",
       "                  state    country  \n",
       "34           Queensland  Australia  \n",
       "38   Northern Territory  Australia  \n",
       "142            Victoria  Australia  \n",
       "154     New South Wales  Australia  \n",
       "170   Western Australia  Australia  \n",
       "174     South Australia  Australia  \n",
       "181          Queensland  Australia  \n",
       "235     New South Wales  Australia  \n",
       "424   Western Australia  Australia  \n",
       "438   Western Australia  Australia  \n",
       "495     New South Wales  Australia  \n",
       "524          Queensland  Australia  \n",
       "598     South Australia  Australia  \n",
       "703   Western Australia  Australia  \n",
       "734          Queensland  Australia  "
      ]
     },
     "execution_count": 161,
     "metadata": {},
     "output_type": "execute_result"
    }
   ],
   "source": [
    "clean_cust_df_2 = clean_cust_df.replace(clean_cust_df[\"age\"].max(), 50)\n",
    "find_max(clean_cust_df_2, \"age\")"
   ]
  },
  {
   "cell_type": "code",
   "execution_count": 162,
   "metadata": {},
   "outputs": [
    {
     "data": {
      "text/html": [
       "<div>\n",
       "<style scoped>\n",
       "    .dataframe tbody tr th:only-of-type {\n",
       "        vertical-align: middle;\n",
       "    }\n",
       "\n",
       "    .dataframe tbody tr th {\n",
       "        vertical-align: top;\n",
       "    }\n",
       "\n",
       "    .dataframe thead th {\n",
       "        text-align: right;\n",
       "    }\n",
       "</style>\n",
       "<table border=\"1\" class=\"dataframe\">\n",
       "  <thead>\n",
       "    <tr style=\"text-align: right;\">\n",
       "      <th></th>\n",
       "      <th>customer_id</th>\n",
       "      <th>age</th>\n",
       "      <th>zip_code</th>\n",
       "    </tr>\n",
       "  </thead>\n",
       "  <tbody>\n",
       "    <tr>\n",
       "      <th>count</th>\n",
       "      <td>1001.000000</td>\n",
       "      <td>1001.000000</td>\n",
       "      <td>1001.000000</td>\n",
       "    </tr>\n",
       "    <tr>\n",
       "      <th>mean</th>\n",
       "      <td>499.863137</td>\n",
       "      <td>49.874126</td>\n",
       "      <td>5000.693307</td>\n",
       "    </tr>\n",
       "    <tr>\n",
       "      <th>std</th>\n",
       "      <td>289.615487</td>\n",
       "      <td>17.644663</td>\n",
       "      <td>2886.084454</td>\n",
       "    </tr>\n",
       "    <tr>\n",
       "      <th>min</th>\n",
       "      <td>1.000000</td>\n",
       "      <td>20.000000</td>\n",
       "      <td>2.000000</td>\n",
       "    </tr>\n",
       "    <tr>\n",
       "      <th>25%</th>\n",
       "      <td>249.000000</td>\n",
       "      <td>34.000000</td>\n",
       "      <td>2398.000000</td>\n",
       "    </tr>\n",
       "    <tr>\n",
       "      <th>50%</th>\n",
       "      <td>499.000000</td>\n",
       "      <td>50.000000</td>\n",
       "      <td>5079.000000</td>\n",
       "    </tr>\n",
       "    <tr>\n",
       "      <th>75%</th>\n",
       "      <td>751.000000</td>\n",
       "      <td>65.000000</td>\n",
       "      <td>7454.000000</td>\n",
       "    </tr>\n",
       "    <tr>\n",
       "      <th>max</th>\n",
       "      <td>1000.000000</td>\n",
       "      <td>80.000000</td>\n",
       "      <td>9998.000000</td>\n",
       "    </tr>\n",
       "  </tbody>\n",
       "</table>\n",
       "</div>"
      ],
      "text/plain": [
       "       customer_id          age     zip_code\n",
       "count  1001.000000  1001.000000  1001.000000\n",
       "mean    499.863137    49.874126  5000.693307\n",
       "std     289.615487    17.644663  2886.084454\n",
       "min       1.000000    20.000000     2.000000\n",
       "25%     249.000000    34.000000  2398.000000\n",
       "50%     499.000000    50.000000  5079.000000\n",
       "75%     751.000000    65.000000  7454.000000\n",
       "max    1000.000000    80.000000  9998.000000"
      ]
     },
     "execution_count": 162,
     "metadata": {},
     "output_type": "execute_result"
    }
   ],
   "source": [
    "clean_cust_df_2.describe()"
   ]
  },
  {
   "cell_type": "code",
   "execution_count": 166,
   "metadata": {},
   "outputs": [
    {
     "data": {
      "text/html": [
       "<div>\n",
       "<style scoped>\n",
       "    .dataframe tbody tr th:only-of-type {\n",
       "        vertical-align: middle;\n",
       "    }\n",
       "\n",
       "    .dataframe tbody tr th {\n",
       "        vertical-align: top;\n",
       "    }\n",
       "\n",
       "    .dataframe thead th {\n",
       "        text-align: right;\n",
       "    }\n",
       "</style>\n",
       "<table border=\"1\" class=\"dataframe\">\n",
       "  <thead>\n",
       "    <tr style=\"text-align: right;\">\n",
       "      <th></th>\n",
       "      <th>customer_id</th>\n",
       "      <th>customer_name</th>\n",
       "      <th>gender</th>\n",
       "      <th>age</th>\n",
       "      <th>home_address</th>\n",
       "      <th>zip_code</th>\n",
       "      <th>city</th>\n",
       "      <th>state</th>\n",
       "      <th>country</th>\n",
       "    </tr>\n",
       "  </thead>\n",
       "  <tbody>\n",
       "    <tr>\n",
       "      <th>949</th>\n",
       "      <td>943</td>\n",
       "      <td>fulan 943</td>\n",
       "      <td>Prefer not to say</td>\n",
       "      <td>64</td>\n",
       "      <td>3117 Heller PlaceSuite 149</td>\n",
       "      <td>822</td>\n",
       "      <td>North Elijah</td>\n",
       "      <td>South Australia</td>\n",
       "      <td>Australia</td>\n",
       "    </tr>\n",
       "  </tbody>\n",
       "</table>\n",
       "</div>"
      ],
      "text/plain": [
       "     customer_id customer_name             gender  age  \\\n",
       "949          943     fulan 943  Prefer not to say   64   \n",
       "\n",
       "                   home_address  zip_code          city            state  \\\n",
       "949  3117 Heller PlaceSuite 149       822  North Elijah  South Australia   \n",
       "\n",
       "       country  \n",
       "949  Australia  "
      ]
     },
     "execution_count": 166,
     "metadata": {},
     "output_type": "execute_result"
    }
   ],
   "source": [
    "clean_cust_df_2[clean_cust_df_2.duplicated()]"
   ]
  },
  {
   "cell_type": "code",
   "execution_count": 167,
   "metadata": {},
   "outputs": [
    {
     "data": {
      "text/html": [
       "<div>\n",
       "<style scoped>\n",
       "    .dataframe tbody tr th:only-of-type {\n",
       "        vertical-align: middle;\n",
       "    }\n",
       "\n",
       "    .dataframe tbody tr th {\n",
       "        vertical-align: top;\n",
       "    }\n",
       "\n",
       "    .dataframe thead th {\n",
       "        text-align: right;\n",
       "    }\n",
       "</style>\n",
       "<table border=\"1\" class=\"dataframe\">\n",
       "  <thead>\n",
       "    <tr style=\"text-align: right;\">\n",
       "      <th></th>\n",
       "      <th>customer_id</th>\n",
       "      <th>customer_name</th>\n",
       "      <th>gender</th>\n",
       "      <th>age</th>\n",
       "      <th>home_address</th>\n",
       "      <th>zip_code</th>\n",
       "      <th>city</th>\n",
       "      <th>state</th>\n",
       "      <th>country</th>\n",
       "    </tr>\n",
       "  </thead>\n",
       "  <tbody>\n",
       "    <tr>\n",
       "      <th>948</th>\n",
       "      <td>943</td>\n",
       "      <td>fulan 943</td>\n",
       "      <td>Prefer not to say</td>\n",
       "      <td>64</td>\n",
       "      <td>3117 Heller PlaceSuite 149</td>\n",
       "      <td>822</td>\n",
       "      <td>North Elijah</td>\n",
       "      <td>South Australia</td>\n",
       "      <td>Australia</td>\n",
       "    </tr>\n",
       "    <tr>\n",
       "      <th>949</th>\n",
       "      <td>943</td>\n",
       "      <td>fulan 943</td>\n",
       "      <td>Prefer not to say</td>\n",
       "      <td>64</td>\n",
       "      <td>3117 Heller PlaceSuite 149</td>\n",
       "      <td>822</td>\n",
       "      <td>North Elijah</td>\n",
       "      <td>South Australia</td>\n",
       "      <td>Australia</td>\n",
       "    </tr>\n",
       "  </tbody>\n",
       "</table>\n",
       "</div>"
      ],
      "text/plain": [
       "     customer_id customer_name             gender  age  \\\n",
       "948          943     fulan 943  Prefer not to say   64   \n",
       "949          943     fulan 943  Prefer not to say   64   \n",
       "\n",
       "                   home_address  zip_code          city            state  \\\n",
       "948  3117 Heller PlaceSuite 149       822  North Elijah  South Australia   \n",
       "949  3117 Heller PlaceSuite 149       822  North Elijah  South Australia   \n",
       "\n",
       "       country  \n",
       "948  Australia  \n",
       "949  Australia  "
      ]
     },
     "execution_count": 167,
     "metadata": {},
     "output_type": "execute_result"
    }
   ],
   "source": [
    "clean_cust_df_2[clean_cust_df_2[\"customer_id\"] == 943]"
   ]
  },
  {
   "cell_type": "markdown",
   "metadata": {},
   "source": [
    "There's a duplicate data again. Let's drop it"
   ]
  },
  {
   "cell_type": "code",
   "execution_count": 168,
   "metadata": {},
   "outputs": [
    {
     "name": "stdout",
     "output_type": "stream",
     "text": [
      "Total Data Duplication: 0\n"
     ]
    }
   ],
   "source": [
    "clean_cust_df_final = clean_cust_df_2.drop_duplicates() \n",
    "check_duplicate(clean_cust_df_final)"
   ]
  },
  {
   "cell_type": "markdown",
   "metadata": {},
   "source": [
    "### Cleaning orders_df data"
   ]
  },
  {
   "cell_type": "code",
   "execution_count": 123,
   "metadata": {},
   "outputs": [
    {
     "name": "stdout",
     "output_type": "stream",
     "text": [
      "<class 'pandas.core.frame.DataFrame'>\n",
      "RangeIndex: 1000 entries, 0 to 999\n",
      "Data columns (total 5 columns):\n",
      " #   Column         Non-Null Count  Dtype \n",
      "---  ------         --------------  ----- \n",
      " 0   order_id       1000 non-null   int64 \n",
      " 1   customer_id    1000 non-null   int64 \n",
      " 2   payment        1000 non-null   int64 \n",
      " 3   order_date     1000 non-null   object\n",
      " 4   delivery_date  1000 non-null   object\n",
      "dtypes: int64(3), object(2)\n",
      "memory usage: 39.2+ KB\n"
     ]
    }
   ],
   "source": [
    "orders_df.info()"
   ]
  },
  {
   "cell_type": "markdown",
   "metadata": {},
   "source": [
    "Since the orders_df has a problem with order_date and delivery_date datatype, we will change them."
   ]
  },
  {
   "cell_type": "code",
   "execution_count": 125,
   "metadata": {},
   "outputs": [
    {
     "name": "stdout",
     "output_type": "stream",
     "text": [
      "<class 'pandas.core.frame.DataFrame'>\n",
      "RangeIndex: 1000 entries, 0 to 999\n",
      "Data columns (total 5 columns):\n",
      " #   Column         Non-Null Count  Dtype         \n",
      "---  ------         --------------  -----         \n",
      " 0   order_id       1000 non-null   int64         \n",
      " 1   customer_id    1000 non-null   int64         \n",
      " 2   payment        1000 non-null   int64         \n",
      " 3   order_date     1000 non-null   datetime64[ns]\n",
      " 4   delivery_date  1000 non-null   datetime64[ns]\n",
      "dtypes: datetime64[ns](2), int64(3)\n",
      "memory usage: 39.2 KB\n"
     ]
    }
   ],
   "source": [
    "datetime_cols = [\"order_date\", \"delivery_date\"]\n",
    "\n",
    "# to keep safe the original in case there is something went wrong\n",
    "new_orders_df = orders_df\n",
    "\n",
    "for col in datetime_cols:\n",
    "    new_orders_df[col] = pd.to_datetime(new_orders_df[col])\n",
    "\n",
    "new_orders_df.info()"
   ]
  },
  {
   "cell_type": "markdown",
   "metadata": {},
   "source": [
    "### Cleaning product_df data"
   ]
  },
  {
   "cell_type": "markdown",
   "metadata": {},
   "source": [
    "The problem with this table is the duplicate data. Let's take a look"
   ]
  },
  {
   "cell_type": "code",
   "execution_count": 127,
   "metadata": {},
   "outputs": [
    {
     "name": "stdout",
     "output_type": "stream",
     "text": [
      "Total Data Duplication: 6\n"
     ]
    }
   ],
   "source": [
    "check_duplicate(products_df)"
   ]
  },
  {
   "cell_type": "code",
   "execution_count": 134,
   "metadata": {},
   "outputs": [
    {
     "name": "stdout",
     "output_type": "stream",
     "text": [
      "Total Data Duplication: 0\n"
     ]
    }
   ],
   "source": [
    "clean_products_df = products_df.drop_duplicates()\n",
    "check_duplicate(clean_products_df)"
   ]
  },
  {
   "cell_type": "markdown",
   "metadata": {},
   "source": [
    "### Cleaning sales_df data"
   ]
  },
  {
   "cell_type": "markdown",
   "metadata": {},
   "source": [
    "There're missing values within this table, let's take a look"
   ]
  },
  {
   "cell_type": "code",
   "execution_count": 135,
   "metadata": {},
   "outputs": [
    {
     "data": {
      "text/plain": [
       "sales_id           0\n",
       "order_id           0\n",
       "product_id         0\n",
       "price_per_unit     0\n",
       "quantity           0\n",
       "total_price       19\n",
       "dtype: int64"
      ]
     },
     "execution_count": 135,
     "metadata": {},
     "output_type": "execute_result"
    }
   ],
   "source": [
    "sales_df.isna().sum()"
   ]
  },
  {
   "cell_type": "code",
   "execution_count": 137,
   "metadata": {},
   "outputs": [
    {
     "data": {
      "text/html": [
       "<div>\n",
       "<style scoped>\n",
       "    .dataframe tbody tr th:only-of-type {\n",
       "        vertical-align: middle;\n",
       "    }\n",
       "\n",
       "    .dataframe tbody tr th {\n",
       "        vertical-align: top;\n",
       "    }\n",
       "\n",
       "    .dataframe thead th {\n",
       "        text-align: right;\n",
       "    }\n",
       "</style>\n",
       "<table border=\"1\" class=\"dataframe\">\n",
       "  <thead>\n",
       "    <tr style=\"text-align: right;\">\n",
       "      <th></th>\n",
       "      <th>sales_id</th>\n",
       "      <th>order_id</th>\n",
       "      <th>product_id</th>\n",
       "      <th>price_per_unit</th>\n",
       "      <th>quantity</th>\n",
       "      <th>total_price</th>\n",
       "    </tr>\n",
       "  </thead>\n",
       "  <tbody>\n",
       "    <tr>\n",
       "      <th>9</th>\n",
       "      <td>9</td>\n",
       "      <td>2</td>\n",
       "      <td>1196</td>\n",
       "      <td>105</td>\n",
       "      <td>1</td>\n",
       "      <td>NaN</td>\n",
       "    </tr>\n",
       "    <tr>\n",
       "      <th>121</th>\n",
       "      <td>121</td>\n",
       "      <td>27</td>\n",
       "      <td>1027</td>\n",
       "      <td>90</td>\n",
       "      <td>3</td>\n",
       "      <td>NaN</td>\n",
       "    </tr>\n",
       "    <tr>\n",
       "      <th>278</th>\n",
       "      <td>278</td>\n",
       "      <td>63</td>\n",
       "      <td>360</td>\n",
       "      <td>94</td>\n",
       "      <td>2</td>\n",
       "      <td>NaN</td>\n",
       "    </tr>\n",
       "    <tr>\n",
       "      <th>421</th>\n",
       "      <td>421</td>\n",
       "      <td>95</td>\n",
       "      <td>1091</td>\n",
       "      <td>115</td>\n",
       "      <td>1</td>\n",
       "      <td>NaN</td>\n",
       "    </tr>\n",
       "    <tr>\n",
       "      <th>489</th>\n",
       "      <td>489</td>\n",
       "      <td>108</td>\n",
       "      <td>1193</td>\n",
       "      <td>105</td>\n",
       "      <td>3</td>\n",
       "      <td>NaN</td>\n",
       "    </tr>\n",
       "    <tr>\n",
       "      <th>539</th>\n",
       "      <td>539</td>\n",
       "      <td>117</td>\n",
       "      <td>405</td>\n",
       "      <td>119</td>\n",
       "      <td>2</td>\n",
       "      <td>NaN</td>\n",
       "    </tr>\n",
       "    <tr>\n",
       "      <th>636</th>\n",
       "      <td>636</td>\n",
       "      <td>134</td>\n",
       "      <td>653</td>\n",
       "      <td>93</td>\n",
       "      <td>3</td>\n",
       "      <td>NaN</td>\n",
       "    </tr>\n",
       "    <tr>\n",
       "      <th>687</th>\n",
       "      <td>687</td>\n",
       "      <td>145</td>\n",
       "      <td>1138</td>\n",
       "      <td>102</td>\n",
       "      <td>1</td>\n",
       "      <td>NaN</td>\n",
       "    </tr>\n",
       "    <tr>\n",
       "      <th>854</th>\n",
       "      <td>854</td>\n",
       "      <td>177</td>\n",
       "      <td>64</td>\n",
       "      <td>104</td>\n",
       "      <td>1</td>\n",
       "      <td>NaN</td>\n",
       "    </tr>\n",
       "    <tr>\n",
       "      <th>1079</th>\n",
       "      <td>1079</td>\n",
       "      <td>222</td>\n",
       "      <td>908</td>\n",
       "      <td>94</td>\n",
       "      <td>3</td>\n",
       "      <td>NaN</td>\n",
       "    </tr>\n",
       "    <tr>\n",
       "      <th>1193</th>\n",
       "      <td>1193</td>\n",
       "      <td>248</td>\n",
       "      <td>1121</td>\n",
       "      <td>102</td>\n",
       "      <td>2</td>\n",
       "      <td>NaN</td>\n",
       "    </tr>\n",
       "    <tr>\n",
       "      <th>1313</th>\n",
       "      <td>1313</td>\n",
       "      <td>272</td>\n",
       "      <td>826</td>\n",
       "      <td>117</td>\n",
       "      <td>1</td>\n",
       "      <td>NaN</td>\n",
       "    </tr>\n",
       "    <tr>\n",
       "      <th>1548</th>\n",
       "      <td>1548</td>\n",
       "      <td>316</td>\n",
       "      <td>103</td>\n",
       "      <td>118</td>\n",
       "      <td>3</td>\n",
       "      <td>NaN</td>\n",
       "    </tr>\n",
       "    <tr>\n",
       "      <th>1688</th>\n",
       "      <td>1688</td>\n",
       "      <td>345</td>\n",
       "      <td>428</td>\n",
       "      <td>107</td>\n",
       "      <td>1</td>\n",
       "      <td>NaN</td>\n",
       "    </tr>\n",
       "    <tr>\n",
       "      <th>1775</th>\n",
       "      <td>1775</td>\n",
       "      <td>359</td>\n",
       "      <td>694</td>\n",
       "      <td>113</td>\n",
       "      <td>2</td>\n",
       "      <td>NaN</td>\n",
       "    </tr>\n",
       "    <tr>\n",
       "      <th>1902</th>\n",
       "      <td>1902</td>\n",
       "      <td>381</td>\n",
       "      <td>1218</td>\n",
       "      <td>105</td>\n",
       "      <td>3</td>\n",
       "      <td>NaN</td>\n",
       "    </tr>\n",
       "    <tr>\n",
       "      <th>2025</th>\n",
       "      <td>2025</td>\n",
       "      <td>408</td>\n",
       "      <td>611</td>\n",
       "      <td>112</td>\n",
       "      <td>3</td>\n",
       "      <td>NaN</td>\n",
       "    </tr>\n",
       "    <tr>\n",
       "      <th>2164</th>\n",
       "      <td>2164</td>\n",
       "      <td>436</td>\n",
       "      <td>583</td>\n",
       "      <td>100</td>\n",
       "      <td>3</td>\n",
       "      <td>NaN</td>\n",
       "    </tr>\n",
       "    <tr>\n",
       "      <th>2347</th>\n",
       "      <td>2347</td>\n",
       "      <td>476</td>\n",
       "      <td>696</td>\n",
       "      <td>113</td>\n",
       "      <td>2</td>\n",
       "      <td>NaN</td>\n",
       "    </tr>\n",
       "  </tbody>\n",
       "</table>\n",
       "</div>"
      ],
      "text/plain": [
       "      sales_id  order_id  product_id  price_per_unit  quantity  total_price\n",
       "9            9         2        1196             105         1          NaN\n",
       "121        121        27        1027              90         3          NaN\n",
       "278        278        63         360              94         2          NaN\n",
       "421        421        95        1091             115         1          NaN\n",
       "489        489       108        1193             105         3          NaN\n",
       "539        539       117         405             119         2          NaN\n",
       "636        636       134         653              93         3          NaN\n",
       "687        687       145        1138             102         1          NaN\n",
       "854        854       177          64             104         1          NaN\n",
       "1079      1079       222         908              94         3          NaN\n",
       "1193      1193       248        1121             102         2          NaN\n",
       "1313      1313       272         826             117         1          NaN\n",
       "1548      1548       316         103             118         3          NaN\n",
       "1688      1688       345         428             107         1          NaN\n",
       "1775      1775       359         694             113         2          NaN\n",
       "1902      1902       381        1218             105         3          NaN\n",
       "2025      2025       408         611             112         3          NaN\n",
       "2164      2164       436         583             100         3          NaN\n",
       "2347      2347       476         696             113         2          NaN"
      ]
     },
     "execution_count": 137,
     "metadata": {},
     "output_type": "execute_result"
    }
   ],
   "source": [
    "sales_df[sales_df[\"total_price\"].isna()]"
   ]
  },
  {
   "cell_type": "markdown",
   "metadata": {},
   "source": [
    "Let's take a look at some of filled data"
   ]
  },
  {
   "cell_type": "code",
   "execution_count": 140,
   "metadata": {},
   "outputs": [
    {
     "data": {
      "text/html": [
       "<div>\n",
       "<style scoped>\n",
       "    .dataframe tbody tr th:only-of-type {\n",
       "        vertical-align: middle;\n",
       "    }\n",
       "\n",
       "    .dataframe tbody tr th {\n",
       "        vertical-align: top;\n",
       "    }\n",
       "\n",
       "    .dataframe thead th {\n",
       "        text-align: right;\n",
       "    }\n",
       "</style>\n",
       "<table border=\"1\" class=\"dataframe\">\n",
       "  <thead>\n",
       "    <tr style=\"text-align: right;\">\n",
       "      <th></th>\n",
       "      <th>sales_id</th>\n",
       "      <th>order_id</th>\n",
       "      <th>product_id</th>\n",
       "      <th>price_per_unit</th>\n",
       "      <th>quantity</th>\n",
       "      <th>total_price</th>\n",
       "    </tr>\n",
       "  </thead>\n",
       "  <tbody>\n",
       "    <tr>\n",
       "      <th>0</th>\n",
       "      <td>0</td>\n",
       "      <td>1</td>\n",
       "      <td>218</td>\n",
       "      <td>106</td>\n",
       "      <td>2</td>\n",
       "      <td>212.0</td>\n",
       "    </tr>\n",
       "    <tr>\n",
       "      <th>1</th>\n",
       "      <td>1</td>\n",
       "      <td>1</td>\n",
       "      <td>481</td>\n",
       "      <td>118</td>\n",
       "      <td>1</td>\n",
       "      <td>118.0</td>\n",
       "    </tr>\n",
       "    <tr>\n",
       "      <th>2</th>\n",
       "      <td>2</td>\n",
       "      <td>1</td>\n",
       "      <td>2</td>\n",
       "      <td>96</td>\n",
       "      <td>3</td>\n",
       "      <td>288.0</td>\n",
       "    </tr>\n",
       "    <tr>\n",
       "      <th>3</th>\n",
       "      <td>3</td>\n",
       "      <td>1</td>\n",
       "      <td>1002</td>\n",
       "      <td>106</td>\n",
       "      <td>2</td>\n",
       "      <td>212.0</td>\n",
       "    </tr>\n",
       "    <tr>\n",
       "      <th>4</th>\n",
       "      <td>4</td>\n",
       "      <td>1</td>\n",
       "      <td>691</td>\n",
       "      <td>113</td>\n",
       "      <td>3</td>\n",
       "      <td>339.0</td>\n",
       "    </tr>\n",
       "  </tbody>\n",
       "</table>\n",
       "</div>"
      ],
      "text/plain": [
       "   sales_id  order_id  product_id  price_per_unit  quantity  total_price\n",
       "0         0         1         218             106         2        212.0\n",
       "1         1         1         481             118         1        118.0\n",
       "2         2         1           2              96         3        288.0\n",
       "3         3         1        1002             106         2        212.0\n",
       "4         4         1         691             113         3        339.0"
      ]
     },
     "execution_count": 140,
     "metadata": {},
     "output_type": "execute_result"
    }
   ],
   "source": [
    "sales_df[sales_df[\"total_price\"].notna()].head()"
   ]
  },
  {
   "cell_type": "code",
   "execution_count": 142,
   "metadata": {},
   "outputs": [
    {
     "data": {
      "text/plain": [
       "(212, 118, 288)"
      ]
     },
     "execution_count": 142,
     "metadata": {},
     "output_type": "execute_result"
    }
   ],
   "source": [
    "106*2, 118*1, 96*3"
   ]
  },
  {
   "cell_type": "markdown",
   "metadata": {},
   "source": [
    "As we can see that the total_price can be found with multiplying the price_per_unit and quantity. \n",
    "\n",
    "Since the missing value of sales_df dataset only in the total_price column, we can fill it with multiply the price_per_unit and quantity cols."
   ]
  },
  {
   "cell_type": "code",
   "execution_count": 144,
   "metadata": {},
   "outputs": [
    {
     "data": {
      "text/plain": [
       "sales_id          0\n",
       "order_id          0\n",
       "product_id        0\n",
       "price_per_unit    0\n",
       "quantity          0\n",
       "total_price       0\n",
       "dtype: int64"
      ]
     },
     "execution_count": 144,
     "metadata": {},
     "output_type": "execute_result"
    }
   ],
   "source": [
    "clean_sales_df = sales_df\n",
    "clean_sales_df[\"total_price\"] = clean_sales_df[\"price_per_unit\"] * clean_sales_df[\"quantity\"]\n",
    "clean_sales_df.isna().sum()"
   ]
  },
  {
   "cell_type": "code",
   "execution_count": 145,
   "metadata": {},
   "outputs": [
    {
     "name": "stdout",
     "output_type": "stream",
     "text": [
      "<class 'pandas.core.frame.DataFrame'>\n",
      "RangeIndex: 5000 entries, 0 to 4999\n",
      "Data columns (total 6 columns):\n",
      " #   Column          Non-Null Count  Dtype\n",
      "---  ------          --------------  -----\n",
      " 0   sales_id        5000 non-null   int64\n",
      " 1   order_id        5000 non-null   int64\n",
      " 2   product_id      5000 non-null   int64\n",
      " 3   price_per_unit  5000 non-null   int64\n",
      " 4   quantity        5000 non-null   int64\n",
      " 5   total_price     5000 non-null   int64\n",
      "dtypes: int64(6)\n",
      "memory usage: 234.5 KB\n"
     ]
    }
   ],
   "source": [
    "clean_sales_df.info()"
   ]
  },
  {
   "cell_type": "code",
   "execution_count": 147,
   "metadata": {},
   "outputs": [
    {
     "name": "stdout",
     "output_type": "stream",
     "text": [
      "<class 'pandas.core.frame.DataFrame'>\n",
      "RangeIndex: 5000 entries, 0 to 4999\n",
      "Data columns (total 6 columns):\n",
      " #   Column          Non-Null Count  Dtype\n",
      "---  ------          --------------  -----\n",
      " 0   sales_id        5000 non-null   int64\n",
      " 1   order_id        5000 non-null   int64\n",
      " 2   product_id      5000 non-null   int64\n",
      " 3   price_per_unit  5000 non-null   int64\n",
      " 4   quantity        5000 non-null   int64\n",
      " 5   total_price     5000 non-null   int64\n",
      "dtypes: int64(6)\n",
      "memory usage: 234.5 KB\n"
     ]
    }
   ],
   "source": [
    "clean_sales_df_2 = sales_df.replace(sales_df[\"total_price\"].isna(), sales_df[\"price_per_unit\"] * sales_df[\"quantity\"])\n",
    "clean_sales_df_2.info()"
   ]
  },
  {
   "cell_type": "code",
   "execution_count": 148,
   "metadata": {},
   "outputs": [
    {
     "data": {
      "text/plain": [
       "sales_id          0\n",
       "order_id          0\n",
       "product_id        0\n",
       "price_per_unit    0\n",
       "quantity          0\n",
       "total_price       0\n",
       "dtype: int64"
      ]
     },
     "execution_count": 148,
     "metadata": {},
     "output_type": "execute_result"
    }
   ],
   "source": [
    "clean_sales_df_2.isna().sum()"
   ]
  },
  {
   "cell_type": "markdown",
   "metadata": {},
   "source": [
    "# Final Result"
   ]
  },
  {
   "cell_type": "code",
   "execution_count": 179,
   "metadata": {},
   "outputs": [],
   "source": [
    "def check_all(data):\n",
    "    print(\"========= Info =========\")\n",
    "    data.info()\n",
    "    print()\n",
    "\n",
    "    print(\"========= Describe =========\")\n",
    "    print(data.describe())\n",
    "    print()\n",
    "\n",
    "    print(\"========= Missing Value =========\")\n",
    "    print(data.isna().sum())\n",
    "    print()\n",
    "    \n",
    "    print(\"========= Duplicated Value =========\")\n",
    "    check_duplicate(data)"
   ]
  },
  {
   "cell_type": "markdown",
   "metadata": {},
   "source": [
    "## Customers Table"
   ]
  },
  {
   "cell_type": "code",
   "execution_count": 180,
   "metadata": {},
   "outputs": [
    {
     "name": "stdout",
     "output_type": "stream",
     "text": [
      "========= Info =========\n",
      "<class 'pandas.core.frame.DataFrame'>\n",
      "Index: 1000 entries, 0 to 1006\n",
      "Data columns (total 9 columns):\n",
      " #   Column         Non-Null Count  Dtype \n",
      "---  ------         --------------  ----- \n",
      " 0   customer_id    1000 non-null   int64 \n",
      " 1   customer_name  1000 non-null   object\n",
      " 2   gender         1000 non-null   object\n",
      " 3   age            1000 non-null   int64 \n",
      " 4   home_address   1000 non-null   object\n",
      " 5   zip_code       1000 non-null   int64 \n",
      " 6   city           1000 non-null   object\n",
      " 7   state          1000 non-null   object\n",
      " 8   country        1000 non-null   object\n",
      "dtypes: int64(3), object(6)\n",
      "memory usage: 78.1+ KB\n",
      "\n",
      "========= Describe =========\n",
      "       customer_id          age     zip_code\n",
      "count  1000.000000  1000.000000  1000.000000\n",
      "mean    499.420000    49.860000  5004.872000\n",
      "std     289.420676    17.647828  2884.497332\n",
      "min       1.000000    20.000000     2.000000\n",
      "25%     248.750000    34.000000  2401.750000\n",
      "50%     498.500000    50.000000  5083.000000\n",
      "75%     750.250000    65.000000  7460.250000\n",
      "max    1000.000000    80.000000  9998.000000\n",
      "\n",
      "========= Missing Value =========\n",
      "customer_id      0\n",
      "customer_name    0\n",
      "gender           0\n",
      "age              0\n",
      "home_address     0\n",
      "zip_code         0\n",
      "city             0\n",
      "state            0\n",
      "country          0\n",
      "dtype: int64\n",
      "\n",
      "========= Duplicated Value =========\n",
      "Total Data Duplication: 0\n"
     ]
    }
   ],
   "source": [
    "check_all(clean_cust_df_final)"
   ]
  },
  {
   "cell_type": "markdown",
   "metadata": {},
   "source": [
    "## Orders Table"
   ]
  },
  {
   "cell_type": "code",
   "execution_count": 181,
   "metadata": {},
   "outputs": [
    {
     "name": "stdout",
     "output_type": "stream",
     "text": [
      "========= Info =========\n",
      "<class 'pandas.core.frame.DataFrame'>\n",
      "RangeIndex: 1000 entries, 0 to 999\n",
      "Data columns (total 5 columns):\n",
      " #   Column         Non-Null Count  Dtype         \n",
      "---  ------         --------------  -----         \n",
      " 0   order_id       1000 non-null   int64         \n",
      " 1   customer_id    1000 non-null   int64         \n",
      " 2   payment        1000 non-null   int64         \n",
      " 3   order_date     1000 non-null   datetime64[ns]\n",
      " 4   delivery_date  1000 non-null   datetime64[ns]\n",
      "dtypes: datetime64[ns](2), int64(3)\n",
      "memory usage: 39.2 KB\n",
      "\n",
      "========= Describe =========\n",
      "          order_id  customer_id       payment                  order_date  \\\n",
      "count  1000.000000  1000.000000   1000.000000                        1000   \n",
      "mean    500.500000   506.640000  33972.936000  2021-05-27 18:38:52.800000   \n",
      "min       1.000000     1.000000  10043.000000         2021-01-01 00:00:00   \n",
      "25%     250.750000   275.250000  21329.250000         2021-03-13 18:00:00   \n",
      "50%     500.500000   515.000000  33697.500000         2021-05-27 12:00:00   \n",
      "75%     750.250000   737.250000  46249.000000         2021-08-12 06:00:00   \n",
      "max    1000.000000  1000.000000  59910.000000         2021-10-24 00:00:00   \n",
      "std     288.819436   277.115502  14451.609047                         NaN   \n",
      "\n",
      "             delivery_date  \n",
      "count                 1000  \n",
      "mean   2021-06-10 20:31:12  \n",
      "min    2021-01-03 00:00:00  \n",
      "25%    2021-03-28 00:00:00  \n",
      "50%    2021-06-11 12:00:00  \n",
      "75%    2021-08-24 06:00:00  \n",
      "max    2021-11-20 00:00:00  \n",
      "std                    NaN  \n",
      "\n",
      "========= Missing Value =========\n",
      "order_id         0\n",
      "customer_id      0\n",
      "payment          0\n",
      "order_date       0\n",
      "delivery_date    0\n",
      "dtype: int64\n",
      "\n",
      "========= Duplicated Value =========\n",
      "Total Data Duplication: 0\n"
     ]
    }
   ],
   "source": [
    "check_all(new_orders_df)"
   ]
  },
  {
   "cell_type": "markdown",
   "metadata": {},
   "source": [
    "## Products Table"
   ]
  },
  {
   "cell_type": "code",
   "execution_count": 182,
   "metadata": {},
   "outputs": [
    {
     "name": "stdout",
     "output_type": "stream",
     "text": [
      "========= Info =========\n",
      "<class 'pandas.core.frame.DataFrame'>\n",
      "Index: 1260 entries, 0 to 1265\n",
      "Data columns (total 8 columns):\n",
      " #   Column        Non-Null Count  Dtype \n",
      "---  ------        --------------  ----- \n",
      " 0   product_id    1260 non-null   int64 \n",
      " 1   product_type  1260 non-null   object\n",
      " 2   product_name  1260 non-null   object\n",
      " 3   size          1260 non-null   object\n",
      " 4   colour        1260 non-null   object\n",
      " 5   price         1260 non-null   int64 \n",
      " 6   quantity      1260 non-null   int64 \n",
      " 7   description   1260 non-null   object\n",
      "dtypes: int64(3), object(5)\n",
      "memory usage: 88.6+ KB\n",
      "\n",
      "========= Describe =========\n",
      "        product_id        price     quantity\n",
      "count  1260.000000  1260.000000  1260.000000\n",
      "mean    629.500000   105.805556    60.150000\n",
      "std     363.874979     9.704423    11.670573\n",
      "min       0.000000    90.000000    40.000000\n",
      "25%     314.750000    95.750000    50.000000\n",
      "50%     629.500000   108.500000    60.000000\n",
      "75%     944.250000   114.000000    70.000000\n",
      "max    1259.000000   119.000000    80.000000\n",
      "\n",
      "========= Missing Value =========\n",
      "product_id      0\n",
      "product_type    0\n",
      "product_name    0\n",
      "size            0\n",
      "colour          0\n",
      "price           0\n",
      "quantity        0\n",
      "description     0\n",
      "dtype: int64\n",
      "\n",
      "========= Duplicated Value =========\n",
      "Total Data Duplication: 0\n"
     ]
    }
   ],
   "source": [
    "check_all(clean_products_df)"
   ]
  },
  {
   "cell_type": "markdown",
   "metadata": {},
   "source": [
    "## Sales Table"
   ]
  },
  {
   "cell_type": "code",
   "execution_count": 183,
   "metadata": {},
   "outputs": [
    {
     "name": "stdout",
     "output_type": "stream",
     "text": [
      "========= Info =========\n",
      "<class 'pandas.core.frame.DataFrame'>\n",
      "RangeIndex: 5000 entries, 0 to 4999\n",
      "Data columns (total 6 columns):\n",
      " #   Column          Non-Null Count  Dtype\n",
      "---  ------          --------------  -----\n",
      " 0   sales_id        5000 non-null   int64\n",
      " 1   order_id        5000 non-null   int64\n",
      " 2   product_id      5000 non-null   int64\n",
      " 3   price_per_unit  5000 non-null   int64\n",
      " 4   quantity        5000 non-null   int64\n",
      " 5   total_price     5000 non-null   int64\n",
      "dtypes: int64(6)\n",
      "memory usage: 234.5 KB\n",
      "\n",
      "========= Describe =========\n",
      "          sales_id     order_id   product_id  price_per_unit    quantity  \\\n",
      "count  5000.000000  5000.000000  5000.000000     5000.000000  5000.00000   \n",
      "mean   2499.500000   503.038200   634.053200      103.501600     1.99240   \n",
      "std    1443.520003   285.964418   363.255794        9.195004     0.80751   \n",
      "min       0.000000     1.000000     1.000000       90.000000     1.00000   \n",
      "25%    1249.750000   258.000000   323.000000       95.000000     1.00000   \n",
      "50%    2499.500000   504.500000   635.000000      102.000000     2.00000   \n",
      "75%    3749.250000   749.000000   951.000000      112.000000     3.00000   \n",
      "max    4999.000000   999.000000  1259.000000      119.000000     3.00000   \n",
      "\n",
      "       total_price  \n",
      "count  5000.000000  \n",
      "mean    206.360000  \n",
      "std      86.357457  \n",
      "min      90.000000  \n",
      "25%     112.000000  \n",
      "50%     204.000000  \n",
      "75%     285.000000  \n",
      "max     357.000000  \n",
      "\n",
      "========= Missing Value =========\n",
      "sales_id          0\n",
      "order_id          0\n",
      "product_id        0\n",
      "price_per_unit    0\n",
      "quantity          0\n",
      "total_price       0\n",
      "dtype: int64\n",
      "\n",
      "========= Duplicated Value =========\n",
      "Total Data Duplication: 0\n"
     ]
    }
   ],
   "source": [
    "check_all(clean_sales_df_2)"
   ]
  },
  {
   "cell_type": "markdown",
   "metadata": {},
   "source": [
    "# To csv"
   ]
  },
  {
   "cell_type": "code",
   "execution_count": 186,
   "metadata": {},
   "outputs": [],
   "source": [
    "clean_cust_df_final.to_csv(\"clean_customers_df.csv\", index=None)\n",
    "new_orders_df.to_csv(\"clean_orders_df.csv\", index=None)\n",
    "clean_products_df.to_csv(\"clean_products_df.csv\", index=None)\n",
    "clean_sales_df_2.to_csv(\"clean_sales_df.csv\", index=None)"
   ]
  },
  {
   "cell_type": "code",
   "execution_count": null,
   "metadata": {},
   "outputs": [],
   "source": []
  }
 ],
 "metadata": {
  "kernelspec": {
   "display_name": "Python 3 (ipykernel)",
   "language": "python",
   "name": "python3"
  },
  "language_info": {
   "codemirror_mode": {
    "name": "ipython",
    "version": 3
   },
   "file_extension": ".py",
   "mimetype": "text/x-python",
   "name": "python",
   "nbconvert_exporter": "python",
   "pygments_lexer": "ipython3",
   "version": "3.11.7"
  }
 },
 "nbformat": 4,
 "nbformat_minor": 4
}
