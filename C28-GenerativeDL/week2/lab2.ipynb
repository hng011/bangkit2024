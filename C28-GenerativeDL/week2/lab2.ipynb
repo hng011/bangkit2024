{
 "cells": [
  {
   "cell_type": "code",
   "execution_count": 3,
   "id": "e6e812f8",
   "metadata": {},
   "outputs": [
    {
     "name": "stdout",
     "output_type": "stream",
     "text": [
      "\u001b[31mERROR: pip's dependency resolver does not currently take into account all the packages that are installed. This behaviour is the source of the following dependency conflicts.\r\n",
      "tensorboard 2.9.1 requires protobuf<3.20,>=3.9.2, but you have protobuf 3.20.3 which is incompatible.\r\n",
      "tensorflow 2.9.1 requires protobuf<3.20,>=3.9.2, but you have protobuf 3.20.3 which is incompatible.\u001b[0m\u001b[31m\r\n",
      "\u001b[0m\u001b[33mWARNING: Running pip as the 'root' user can result in broken permissions and conflicting behaviour with the system package manager. It is recommended to use a virtual environment instead: https://pip.pypa.io/warnings/venv\u001b[0m\u001b[33m\r\n",
      "\u001b[0m"
     ]
    }
   ],
   "source": [
    "!pip install tensorflow_datasets --quiet"
   ]
  },
  {
   "cell_type": "code",
   "execution_count": 5,
   "id": "307efccb",
   "metadata": {},
   "outputs": [],
   "source": [
    "import tensorflow as tf\n",
    "import tensorflow_datasets as tfds\n",
    "import numpy as np\n",
    "import matplotlib.pyplot as plt"
   ]
  },
  {
   "cell_type": "markdown",
   "id": "04278220",
   "metadata": {},
   "source": [
    "# Prepare dataset"
   ]
  },
  {
   "cell_type": "markdown",
   "id": "e869a5a9",
   "metadata": {},
   "source": [
    "You will load the MNIST data from TFDS into train and test sets. Let's first define a preprocessing function for normalizing and flattening the images. Since we'll be training an autoencoder, this will return `image, image` because the input will also be the target or label while training.\n"
   ]
  },
  {
   "cell_type": "code",
   "execution_count": 8,
   "id": "019cc9e6",
   "metadata": {},
   "outputs": [],
   "source": [
    "def map_image(image, label):\n",
    "    '''Normalizes and flattens the image. Returns image as input and label.'''\n",
    "    image = tf.cast(image, dtype=tf.float32)\n",
    "    image = image / 255.0\n",
    "    image = tf.reshape(image, shape=(784,))\n",
    "\n",
    "    return image, image"
   ]
  },
  {
   "cell_type": "code",
   "execution_count": 9,
   "id": "96c56b65",
   "metadata": {
    "scrolled": true
   },
   "outputs": [
    {
     "name": "stderr",
     "output_type": "stream",
     "text": [
      "2024-05-23 09:39:24.280734: W tensorflow/core/platform/cloud/google_auth_provider.cc:184] All attempts to get a Google authentication bearer token failed, returning an empty token. Retrieving token from files failed with \"NOT_FOUND: Could not locate the credentials file.\". Retrieving token from GCE failed with \"FAILED_PRECONDITION: Error executing an HTTP request: libcurl code 6 meaning 'Couldn't resolve host name', error details: Could not resolve host: metadata\".\n"
     ]
    },
    {
     "name": "stdout",
     "output_type": "stream",
     "text": [
      "\u001b[1mDownloading and preparing dataset 11.06 MiB (download: 11.06 MiB, generated: 21.00 MiB, total: 32.06 MiB) to /root/tensorflow_datasets/mnist/3.0.1...\u001b[0m\n"
     ]
    },
    {
     "data": {
      "application/vnd.jupyter.widget-view+json": {
       "model_id": "0bd3973ce1e2456a89a50053ebee7ede",
       "version_major": 2,
       "version_minor": 0
      },
      "text/plain": [
       "Dl Completed...:   0%|          | 0/5 [00:00<?, ? file/s]"
      ]
     },
     "metadata": {},
     "output_type": "display_data"
    },
    {
     "name": "stdout",
     "output_type": "stream",
     "text": [
      "\u001b[1mDataset mnist downloaded and prepared to /root/tensorflow_datasets/mnist/3.0.1. Subsequent calls will reuse this data.\u001b[0m\n"
     ]
    },
    {
     "name": "stderr",
     "output_type": "stream",
     "text": [
      "2024-05-23 09:40:38.934430: I tensorflow/stream_executor/cuda/cuda_gpu_executor.cc:975] successful NUMA node read from SysFS had negative value (-1), but there must be at least one NUMA node, so returning NUMA node zero\n",
      "2024-05-23 09:40:38.936198: I tensorflow/stream_executor/cuda/cuda_gpu_executor.cc:975] successful NUMA node read from SysFS had negative value (-1), but there must be at least one NUMA node, so returning NUMA node zero\n",
      "2024-05-23 09:40:38.936370: I tensorflow/stream_executor/cuda/cuda_gpu_executor.cc:975] successful NUMA node read from SysFS had negative value (-1), but there must be at least one NUMA node, so returning NUMA node zero\n",
      "2024-05-23 09:40:38.937166: I tensorflow/core/platform/cpu_feature_guard.cc:193] This TensorFlow binary is optimized with oneAPI Deep Neural Network Library (oneDNN) to use the following CPU instructions in performance-critical operations:  SSE3 SSE4.1 SSE4.2 AVX AVX2 FMA\n",
      "To enable them in other operations, rebuild TensorFlow with the appropriate compiler flags.\n",
      "2024-05-23 09:40:38.939209: I tensorflow/stream_executor/cuda/cuda_gpu_executor.cc:975] successful NUMA node read from SysFS had negative value (-1), but there must be at least one NUMA node, so returning NUMA node zero\n",
      "2024-05-23 09:40:38.939403: I tensorflow/stream_executor/cuda/cuda_gpu_executor.cc:975] successful NUMA node read from SysFS had negative value (-1), but there must be at least one NUMA node, so returning NUMA node zero\n",
      "2024-05-23 09:40:38.939576: I tensorflow/stream_executor/cuda/cuda_gpu_executor.cc:975] successful NUMA node read from SysFS had negative value (-1), but there must be at least one NUMA node, so returning NUMA node zero\n",
      "2024-05-23 09:40:39.314574: I tensorflow/stream_executor/cuda/cuda_gpu_executor.cc:975] successful NUMA node read from SysFS had negative value (-1), but there must be at least one NUMA node, so returning NUMA node zero\n",
      "2024-05-23 09:40:39.314752: I tensorflow/stream_executor/cuda/cuda_gpu_executor.cc:975] successful NUMA node read from SysFS had negative value (-1), but there must be at least one NUMA node, so returning NUMA node zero\n",
      "2024-05-23 09:40:39.314878: I tensorflow/stream_executor/cuda/cuda_gpu_executor.cc:975] successful NUMA node read from SysFS had negative value (-1), but there must be at least one NUMA node, so returning NUMA node zero\n",
      "2024-05-23 09:40:39.314979: I tensorflow/core/common_runtime/gpu/gpu_device.cc:1532] Created device /job:localhost/replica:0/task:0/device:GPU:0 with 2667 MB memory:  -> device: 0, name: NVIDIA GeForce GTX 1650, pci bus id: 0000:01:00.0, compute capability: 7.5\n"
     ]
    }
   ],
   "source": [
    "# Load the train and test sets from TFDS\n",
    "\n",
    "BATCH_SIZE = 128\n",
    "SHUFFLE_BUFFER_SIZE = 1024\n",
    "\n",
    "train_dataset = tfds.load('mnist', as_supervised=True, split=\"train\")\n",
    "train_dataset = train_dataset.map(map_image)\n",
    "train_dataset = train_dataset.shuffle(SHUFFLE_BUFFER_SIZE).batch(BATCH_SIZE).repeat()\n",
    "\n",
    "test_dataset = tfds.load('mnist', as_supervised=True, split=\"test\")\n",
    "test_dataset = test_dataset.map(map_image)\n",
    "test_dataset = test_dataset.batch(BATCH_SIZE).repeat()"
   ]
  },
  {
   "cell_type": "code",
   "execution_count": 10,
   "id": "f19af351",
   "metadata": {},
   "outputs": [
    {
     "data": {
      "text/plain": [
       "<RepeatDataset element_spec=(TensorSpec(shape=(None, 784), dtype=tf.float32, name=None), TensorSpec(shape=(None, 784), dtype=tf.float32, name=None))>"
      ]
     },
     "execution_count": 10,
     "metadata": {},
     "output_type": "execute_result"
    }
   ],
   "source": [
    "train_dataset"
   ]
  },
  {
   "cell_type": "markdown",
   "id": "c378f5e9",
   "metadata": {},
   "source": [
    "# Build the model"
   ]
  },
  {
   "cell_type": "code",
   "execution_count": 11,
   "id": "9683362a",
   "metadata": {},
   "outputs": [],
   "source": [
    "def simple_autoencoder(inputs):\n",
    "    encoder = tf.keras.layers.Dense(units=32, activation=\"relu\")(inputs)\n",
    "    decoder = tf.keras.layers.Dense(units=784, activation=\"relu\")(encoder)\n",
    "    \n",
    "    return encoder, decoder"
   ]
  },
  {
   "cell_type": "code",
   "execution_count": 12,
   "id": "388cf596",
   "metadata": {},
   "outputs": [],
   "source": [
    "inputs = tf.keras.layers.Input(shape=(784,))\n",
    "encoder_output, decoder_output = simple_autoencoder(inputs)\n",
    "\n",
    "encoder_model = tf.keras.Model(inputs=inputs, outputs=encoder_output)\n",
    "autoencoder_model = tf.keras.Model(inputs=inputs, outputs=decoder_output)"
   ]
  },
  {
   "cell_type": "markdown",
   "id": "225c7ed7",
   "metadata": {},
   "source": [
    "# Compile the model"
   ]
  },
  {
   "cell_type": "code",
   "execution_count": 13,
   "id": "dc7253d8",
   "metadata": {},
   "outputs": [],
   "source": [
    "autoencoder_model.compile(\n",
    "    optimizer=\"adam\",\n",
    "    loss=tf.keras.losses.binary_crossentropy\n",
    ")"
   ]
  },
  {
   "cell_type": "code",
   "execution_count": 14,
   "id": "96672832",
   "metadata": {},
   "outputs": [
    {
     "name": "stdout",
     "output_type": "stream",
     "text": [
      "Model: \"model_1\"\n",
      "_________________________________________________________________\n",
      " Layer (type)                Output Shape              Param #   \n",
      "=================================================================\n",
      " input_1 (InputLayer)        [(None, 784)]             0         \n",
      "                                                                 \n",
      " dense (Dense)               (None, 32)                25120     \n",
      "                                                                 \n",
      " dense_1 (Dense)             (None, 784)               25872     \n",
      "                                                                 \n",
      "=================================================================\n",
      "Total params: 50,992\n",
      "Trainable params: 50,992\n",
      "Non-trainable params: 0\n",
      "_________________________________________________________________\n"
     ]
    }
   ],
   "source": [
    "autoencoder_model.summary()"
   ]
  },
  {
   "cell_type": "code",
   "execution_count": 15,
   "id": "c6d2dbab",
   "metadata": {},
   "outputs": [
    {
     "name": "stdout",
     "output_type": "stream",
     "text": [
      "Epoch 1/50\n",
      "468/468 [==============================] - 4s 5ms/step - loss: 0.2751\n",
      "Epoch 2/50\n",
      "468/468 [==============================] - 2s 4ms/step - loss: 0.2052\n",
      "Epoch 3/50\n",
      "468/468 [==============================] - 2s 4ms/step - loss: 0.1984\n",
      "Epoch 4/50\n",
      "468/468 [==============================] - 2s 5ms/step - loss: 0.1943\n",
      "Epoch 5/50\n",
      "468/468 [==============================] - 2s 4ms/step - loss: 0.2000\n",
      "Epoch 6/50\n",
      "468/468 [==============================] - 2s 4ms/step - loss: 0.1795\n",
      "Epoch 7/50\n",
      "468/468 [==============================] - 2s 4ms/step - loss: 0.1774\n",
      "Epoch 8/50\n",
      "468/468 [==============================] - 2s 4ms/step - loss: 0.1824\n",
      "Epoch 9/50\n",
      "468/468 [==============================] - 2s 4ms/step - loss: 0.1880\n",
      "Epoch 10/50\n",
      "468/468 [==============================] - 2s 5ms/step - loss: 0.2138\n",
      "Epoch 11/50\n",
      "468/468 [==============================] - 2s 4ms/step - loss: 0.1831\n",
      "Epoch 12/50\n",
      "468/468 [==============================] - 2s 5ms/step - loss: 0.1727\n",
      "Epoch 13/50\n",
      "468/468 [==============================] - 2s 5ms/step - loss: 0.1750\n",
      "Epoch 14/50\n",
      "468/468 [==============================] - 2s 4ms/step - loss: 0.1869\n",
      "Epoch 15/50\n",
      "468/468 [==============================] - 2s 4ms/step - loss: 0.1807\n",
      "Epoch 16/50\n",
      "468/468 [==============================] - 2s 4ms/step - loss: 0.1760\n",
      "Epoch 17/50\n",
      "468/468 [==============================] - 2s 4ms/step - loss: 0.1914\n",
      "Epoch 18/50\n",
      "468/468 [==============================] - 2s 5ms/step - loss: 0.1828\n",
      "Epoch 19/50\n",
      "468/468 [==============================] - 2s 5ms/step - loss: 0.1775\n",
      "Epoch 20/50\n",
      "468/468 [==============================] - 2s 5ms/step - loss: 0.1725\n",
      "Epoch 21/50\n",
      "468/468 [==============================] - 2s 4ms/step - loss: 0.1669\n",
      "Epoch 22/50\n",
      "468/468 [==============================] - 2s 5ms/step - loss: 0.1829\n",
      "Epoch 23/50\n",
      "468/468 [==============================] - 2s 5ms/step - loss: 0.1925\n",
      "Epoch 24/50\n",
      "468/468 [==============================] - 2s 4ms/step - loss: 0.1808\n",
      "Epoch 25/50\n",
      "468/468 [==============================] - 2s 4ms/step - loss: 0.1872\n",
      "Epoch 26/50\n",
      "468/468 [==============================] - 2s 5ms/step - loss: 0.1839\n",
      "Epoch 27/50\n",
      "468/468 [==============================] - 2s 4ms/step - loss: 0.1745\n",
      "Epoch 28/50\n",
      "468/468 [==============================] - 2s 4ms/step - loss: 0.1694\n",
      "Epoch 29/50\n",
      "468/468 [==============================] - 2s 5ms/step - loss: 0.1803\n",
      "Epoch 30/50\n",
      "468/468 [==============================] - 2s 4ms/step - loss: 0.1892\n",
      "Epoch 31/50\n",
      "468/468 [==============================] - 2s 4ms/step - loss: 0.1829\n",
      "Epoch 32/50\n",
      "468/468 [==============================] - 2s 5ms/step - loss: 0.1683\n",
      "Epoch 33/50\n",
      "468/468 [==============================] - 2s 5ms/step - loss: 0.1745\n",
      "Epoch 34/50\n",
      "468/468 [==============================] - 2s 4ms/step - loss: 0.1668\n",
      "Epoch 35/50\n",
      "468/468 [==============================] - 2s 4ms/step - loss: 0.1826\n",
      "Epoch 36/50\n",
      "468/468 [==============================] - 2s 4ms/step - loss: 0.1725\n",
      "Epoch 37/50\n",
      "468/468 [==============================] - 2s 4ms/step - loss: 0.1799\n",
      "Epoch 38/50\n",
      "468/468 [==============================] - 2s 5ms/step - loss: 0.1798\n",
      "Epoch 39/50\n",
      "468/468 [==============================] - 2s 4ms/step - loss: 0.1740\n",
      "Epoch 40/50\n",
      "468/468 [==============================] - 2s 4ms/step - loss: 0.1741\n",
      "Epoch 41/50\n",
      "468/468 [==============================] - 2s 5ms/step - loss: 0.1816\n",
      "Epoch 42/50\n",
      "468/468 [==============================] - 2s 5ms/step - loss: 0.1739\n",
      "Epoch 43/50\n",
      "468/468 [==============================] - 2s 5ms/step - loss: 0.1659\n",
      "Epoch 44/50\n",
      "468/468 [==============================] - 2s 5ms/step - loss: 0.1588\n",
      "Epoch 45/50\n",
      "468/468 [==============================] - 2s 5ms/step - loss: 0.1660\n",
      "Epoch 46/50\n",
      "468/468 [==============================] - 2s 5ms/step - loss: 0.1571\n",
      "Epoch 47/50\n",
      "468/468 [==============================] - 2s 5ms/step - loss: 0.1826\n",
      "Epoch 48/50\n",
      "468/468 [==============================] - 2s 5ms/step - loss: 0.1775\n",
      "Epoch 49/50\n",
      "468/468 [==============================] - 2s 4ms/step - loss: 0.1647\n",
      "Epoch 50/50\n",
      "468/468 [==============================] - 2s 4ms/step - loss: 0.1659\n"
     ]
    }
   ],
   "source": [
    "train_steps = 60000 // BATCH_SIZE\n",
    "simple_auto_history = autoencoder_model.fit(train_dataset, steps_per_epoch=train_steps, epochs=50)"
   ]
  },
  {
   "cell_type": "code",
   "execution_count": 16,
   "id": "e0371f2a",
   "metadata": {},
   "outputs": [],
   "source": [
    "def display_one_row(disp_images, offset, shape=(28, 28)):\n",
    "  '''Display sample outputs in one row.'''\n",
    "  for idx, test_image in enumerate(disp_images):\n",
    "    plt.subplot(3, 10, offset + idx + 1)\n",
    "    plt.xticks([])\n",
    "    plt.yticks([])\n",
    "    test_image = np.reshape(test_image, shape)\n",
    "    plt.imshow(test_image, cmap='gray')\n",
    "\n",
    "\n",
    "def display_results(disp_input_images, disp_encoded, disp_predicted, enc_shape=(8,4)):\n",
    "  '''Displays the input, encoded, and decoded output values.'''\n",
    "  plt.figure(figsize=(15, 5))\n",
    "  display_one_row(disp_input_images, 0, shape=(28,28,))\n",
    "  display_one_row(disp_encoded, 10, shape=enc_shape)\n",
    "  display_one_row(disp_predicted, 20, shape=(28,28,))"
   ]
  },
  {
   "cell_type": "code",
   "execution_count": 17,
   "id": "f24f4a7d",
   "metadata": {},
   "outputs": [
    {
     "name": "stdout",
     "output_type": "stream",
     "text": [
      "1/1 [==============================] - 0s 68ms/step\n",
      "1/1 [==============================] - 0s 61ms/step\n"
     ]
    },
    {
     "name": "stderr",
     "output_type": "stream",
     "text": [
      "2024-05-23 09:49:15.893964: W tensorflow/core/kernels/data/cache_dataset_ops.cc:856] The calling iterator did not fully read the dataset being cached. In order to avoid unexpected truncation of the dataset, the partially cached contents of the dataset  will be discarded. This can happen if you have an input pipeline similar to `dataset.cache().take(k).repeat()`. You should use `dataset.take(k).cache().repeat()` instead.\n",
      "2024-05-23 09:49:16.022825: W tensorflow/core/kernels/data/cache_dataset_ops.cc:856] The calling iterator did not fully read the dataset being cached. In order to avoid unexpected truncation of the dataset, the partially cached contents of the dataset  will be discarded. This can happen if you have an input pipeline similar to `dataset.cache().take(k).repeat()`. You should use `dataset.take(k).cache().repeat()` instead.\n",
      "2024-05-23 09:49:16.089314: W tensorflow/core/kernels/data/cache_dataset_ops.cc:856] The calling iterator did not fully read the dataset being cached. In order to avoid unexpected truncation of the dataset, the partially cached contents of the dataset  will be discarded. This can happen if you have an input pipeline similar to `dataset.cache().take(k).repeat()`. You should use `dataset.take(k).cache().repeat()` instead.\n"
     ]
    },
    {
     "data": {
      "image/png": "[encoded data removed]",
      "text/plain": [
       "<Figure size 1500x500 with 30 Axes>"
      ]
     },
     "metadata": {},
     "output_type": "display_data"
    }
   ],
   "source": [
    "# take 1 batch of the dataset\n",
    "test_dataset = test_dataset.take(1)\n",
    "\n",
    "# take the input images and put them in a list\n",
    "output_samples = []\n",
    "for input_image, image in tfds.as_numpy(test_dataset):\n",
    "      output_samples = input_image\n",
    "\n",
    "# pick 10 random numbers to be used as indices to the list above\n",
    "idxs = np.random.choice(BATCH_SIZE, size=10)\n",
    "\n",
    "# get the encoder output\n",
    "encoded_predicted = encoder_model.predict(test_dataset)\n",
    "\n",
    "# get a prediction for the test batch\n",
    "simple_predicted = autoencoder_model.predict(test_dataset)\n",
    "\n",
    "# display the 10 samples, encodings and decoded values!\n",
    "display_results(output_samples[idxs], encoded_predicted[idxs], simple_predicted[idxs])"
   ]
  },
  {
   "cell_type": "code",
   "execution_count": null,
   "id": "65a27204",
   "metadata": {},
   "outputs": [],
   "source": []
  }
 ],
 "metadata": {
  "kernelspec": {
   "display_name": "Python 3 (ipykernel)",
   "language": "python",
   "name": "python3"
  },
  "language_info": {
   "codemirror_mode": {
    "name": "ipython",
    "version": 3
   },
   "file_extension": ".py",
   "mimetype": "text/x-python",
   "name": "python",
   "nbconvert_exporter": "python",
   "pygments_lexer": "ipython3",
   "version": "3.8.10"
  }
 },
 "nbformat": 4,
 "nbformat_minor": 5
}
