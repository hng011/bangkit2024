{
 "cells": [
  {
   "cell_type": "code",
   "execution_count": 1,
   "id": "dca44af0",
   "metadata": {},
   "outputs": [],
   "source": [
    "import tensorflow as tf\n",
    "import tensorflow_datasets as tfds\n",
    "import numpy as np\n",
    "import matplotlib.pyplot as plt"
   ]
  },
  {
   "cell_type": "code",
   "execution_count": 5,
   "id": "21f8b328",
   "metadata": {},
   "outputs": [],
   "source": [
    "def map_image(image, label):\n",
    "    image = tf.cast(image, dtype=tf.float32)\n",
    "    image /= 255.0\n",
    "    image = tf.reshape(image, shape=(784,))\n",
    "    \n",
    "    return image, image"
   ]
  },
  {
   "cell_type": "code",
   "execution_count": 6,
   "id": "ba998451",
   "metadata": {},
   "outputs": [],
   "source": [
    "BATCH_SIZE = 128\n",
    "SHUFFLE_BUFFER_SIZE = 1024\n",
    "\n",
    "train_dataset = tfds.load(\"mnist\", as_supervised=True, split=\"train\")\n",
    "train_dataset = train_dataset.map(map_image)\n",
    "train_dataset = train_dataset.shuffle(SHUFFLE_BUFFER_SIZE).batch(BATCH_SIZE).repeat()\n",
    "\n",
    "test_dataset = tfds.load(\"mnist\", as_supervised=True, split=\"test\")\n",
    "test_dataset = test_dataset.map(map_image)\n",
    "test_dataset = test_dataset.batch(BATCH_SIZE).repeat()"
   ]
  },
  {
   "cell_type": "markdown",
   "id": "bdcfe27d",
   "metadata": {},
   "source": [
    "# Build the model"
   ]
  },
  {
   "cell_type": "code",
   "execution_count": 15,
   "id": "fbb9fc77",
   "metadata": {},
   "outputs": [],
   "source": [
    "def deep_autoencoder():\n",
    "    encoder = tf.keras.layers.Dense(units=128, activation=\"relu\")(inputs)\n",
    "    encoder = tf.keras.layers.Dense(units=64, activation=\"relu\")(encoder)\n",
    "    encoder = tf.keras.layers.Dense(units=32, activation=\"relu\")(encoder)\n",
    "    \n",
    "    decoder = tf.keras.layers.Dense(units=64, activation=\"relu\")(encoder)\n",
    "    decoder = tf.keras.layers.Dense(units=128, activation=\"relu\")(decoder)\n",
    "    decoder = tf.keras.layers.Dense(units=784, activation=\"sigmoid\")(decoder)\n",
    "    \n",
    "    return encoder, decoder"
   ]
  },
  {
   "cell_type": "code",
   "execution_count": 16,
   "id": "fa1b9b92",
   "metadata": {},
   "outputs": [],
   "source": [
    "inputs = tf.keras.layers.Input(shape=(784,))\n",
    "\n",
    "encoder_output, autoencoder_output = deep_autoencoder()\n",
    "\n",
    "encoder_model = tf.keras.Model(inputs=inputs, outputs=encoder_output)\n",
    "autoencoder_model = tf.keras.Model(inputs=inputs, outputs=autoencoder_output)"
   ]
  },
  {
   "cell_type": "code",
   "execution_count": 17,
   "id": "1d1c84d0",
   "metadata": {},
   "outputs": [
    {
     "name": "stdout",
     "output_type": "stream",
     "text": [
      "Model: \"model_3\"\n",
      "_________________________________________________________________\n",
      " Layer (type)                Output Shape              Param #   \n",
      "=================================================================\n",
      " input_2 (InputLayer)        [(None, 784)]             0         \n",
      "                                                                 \n",
      " dense_6 (Dense)             (None, 128)               100480    \n",
      "                                                                 \n",
      " dense_7 (Dense)             (None, 64)                8256      \n",
      "                                                                 \n",
      " dense_8 (Dense)             (None, 32)                2080      \n",
      "                                                                 \n",
      " dense_9 (Dense)             (None, 64)                2112      \n",
      "                                                                 \n",
      " dense_10 (Dense)            (None, 128)               8320      \n",
      "                                                                 \n",
      " dense_11 (Dense)            (None, 784)               101136    \n",
      "                                                                 \n",
      "=================================================================\n",
      "Total params: 222,384\n",
      "Trainable params: 222,384\n",
      "Non-trainable params: 0\n",
      "_________________________________________________________________\n",
      "Epoch 1/50\n",
      "468/468 [==============================] - 1s 2ms/step - loss: 0.2055\n",
      "Epoch 2/50\n",
      "468/468 [==============================] - 1s 2ms/step - loss: 0.1303\n",
      "Epoch 3/50\n",
      "468/468 [==============================] - 1s 2ms/step - loss: 0.1174\n",
      "Epoch 4/50\n",
      "468/468 [==============================] - 1s 2ms/step - loss: 0.1100\n",
      "Epoch 5/50\n",
      "468/468 [==============================] - 1s 2ms/step - loss: 0.1053\n",
      "Epoch 6/50\n",
      "468/468 [==============================] - 1s 3ms/step - loss: 0.1022\n",
      "Epoch 7/50\n",
      "468/468 [==============================] - 1s 3ms/step - loss: 0.0993\n",
      "Epoch 8/50\n",
      "468/468 [==============================] - 1s 3ms/step - loss: 0.0971\n",
      "Epoch 9/50\n",
      "468/468 [==============================] - 1s 3ms/step - loss: 0.0951\n",
      "Epoch 10/50\n",
      "468/468 [==============================] - 1s 3ms/step - loss: 0.0935\n",
      "Epoch 11/50\n",
      "468/468 [==============================] - 1s 3ms/step - loss: 0.0922\n",
      "Epoch 12/50\n",
      "468/468 [==============================] - 1s 3ms/step - loss: 0.0912\n",
      "Epoch 13/50\n",
      "468/468 [==============================] - 1s 3ms/step - loss: 0.0903\n",
      "Epoch 14/50\n",
      "468/468 [==============================] - 1s 3ms/step - loss: 0.0895\n",
      "Epoch 15/50\n",
      "468/468 [==============================] - 1s 2ms/step - loss: 0.0888\n",
      "Epoch 16/50\n",
      "468/468 [==============================] - 1s 3ms/step - loss: 0.0882\n",
      "Epoch 17/50\n",
      "468/468 [==============================] - 2s 3ms/step - loss: 0.0875\n",
      "Epoch 18/50\n",
      "468/468 [==============================] - 1s 2ms/step - loss: 0.0870\n",
      "Epoch 19/50\n",
      "468/468 [==============================] - 1s 3ms/step - loss: 0.0865\n",
      "Epoch 20/50\n",
      "468/468 [==============================] - 1s 3ms/step - loss: 0.0860\n",
      "Epoch 21/50\n",
      "468/468 [==============================] - 1s 3ms/step - loss: 0.0855\n",
      "Epoch 22/50\n",
      "468/468 [==============================] - 1s 3ms/step - loss: 0.0852\n",
      "Epoch 23/50\n",
      "468/468 [==============================] - 1s 3ms/step - loss: 0.0849\n",
      "Epoch 24/50\n",
      "468/468 [==============================] - 1s 3ms/step - loss: 0.0845\n",
      "Epoch 25/50\n",
      "468/468 [==============================] - 1s 3ms/step - loss: 0.0842\n",
      "Epoch 26/50\n",
      "468/468 [==============================] - 1s 3ms/step - loss: 0.0839\n",
      "Epoch 27/50\n",
      "468/468 [==============================] - 1s 2ms/step - loss: 0.0837\n",
      "Epoch 28/50\n",
      "468/468 [==============================] - 1s 2ms/step - loss: 0.0834\n",
      "Epoch 29/50\n",
      "468/468 [==============================] - 1s 3ms/step - loss: 0.0831\n",
      "Epoch 30/50\n",
      "468/468 [==============================] - 2s 3ms/step - loss: 0.0829\n",
      "Epoch 31/50\n",
      "468/468 [==============================] - 2s 4ms/step - loss: 0.0827\n",
      "Epoch 32/50\n",
      "468/468 [==============================] - 2s 3ms/step - loss: 0.0826\n",
      "Epoch 33/50\n",
      "468/468 [==============================] - 2s 4ms/step - loss: 0.0823\n",
      "Epoch 34/50\n",
      "468/468 [==============================] - 2s 4ms/step - loss: 0.0822\n",
      "Epoch 35/50\n",
      "468/468 [==============================] - 2s 4ms/step - loss: 0.0820\n",
      "Epoch 36/50\n",
      "468/468 [==============================] - 2s 4ms/step - loss: 0.0819\n",
      "Epoch 37/50\n",
      "468/468 [==============================] - 2s 3ms/step - loss: 0.0816\n",
      "Epoch 38/50\n",
      "468/468 [==============================] - 2s 3ms/step - loss: 0.0815\n",
      "Epoch 39/50\n",
      "468/468 [==============================] - 1s 3ms/step - loss: 0.0814\n",
      "Epoch 40/50\n",
      "468/468 [==============================] - 2s 4ms/step - loss: 0.0812\n",
      "Epoch 41/50\n",
      "468/468 [==============================] - 2s 4ms/step - loss: 0.0812\n",
      "Epoch 42/50\n",
      "468/468 [==============================] - 1s 3ms/step - loss: 0.0809\n",
      "Epoch 43/50\n",
      "468/468 [==============================] - 2s 3ms/step - loss: 0.0809\n",
      "Epoch 44/50\n",
      "468/468 [==============================] - 1s 3ms/step - loss: 0.0808\n",
      "Epoch 45/50\n",
      "468/468 [==============================] - 1s 3ms/step - loss: 0.0807\n",
      "Epoch 46/50\n",
      "468/468 [==============================] - 1s 3ms/step - loss: 0.0806\n",
      "Epoch 47/50\n",
      "468/468 [==============================] - 1s 3ms/step - loss: 0.0805\n",
      "Epoch 48/50\n",
      "468/468 [==============================] - 1s 3ms/step - loss: 0.0804\n",
      "Epoch 49/50\n",
      "468/468 [==============================] - 1s 3ms/step - loss: 0.0803\n",
      "Epoch 50/50\n",
      "468/468 [==============================] - 2s 3ms/step - loss: 0.0803\n"
     ]
    },
    {
     "data": {
      "text/plain": [
       "<keras.callbacks.History at 0x74e54035a670>"
      ]
     },
     "execution_count": 17,
     "metadata": {},
     "output_type": "execute_result"
    }
   ],
   "source": [
    "train_steps= 60000 // BATCH_SIZE\n",
    "\n",
    "autoencoder_model.compile(\n",
    "    optimizer=\"adam\",\n",
    "    loss=tf.keras.losses.binary_crossentropy\n",
    ")\n",
    "\n",
    "autoencoder_model.summary()\n",
    "\n",
    "autoencoder_model.fit(train_dataset, steps_per_epoch=train_steps, epochs=50)"
   ]
  },
  {
   "cell_type": "code",
   "execution_count": 20,
   "id": "bbd1e0f5",
   "metadata": {},
   "outputs": [],
   "source": [
    "def display_one_row(disp_images, offset, shape=(28, 28)):\n",
    "  '''Display sample outputs in one row.'''\n",
    "  for idx, test_image in enumerate(disp_images):\n",
    "    plt.subplot(3, 10, offset + idx + 1)\n",
    "    plt.xticks([])\n",
    "    plt.yticks([])\n",
    "    test_image = np.reshape(test_image, shape)\n",
    "    plt.imshow(test_image, cmap='gray')\n",
    "\n",
    "\n",
    "def display_results(disp_input_images, disp_encoded, disp_predicted, enc_shape=(8,4)):\n",
    "  '''Displays the input, encoded, and decoded output values.'''\n",
    "  plt.figure(figsize=(15, 5))\n",
    "  display_one_row(disp_input_images, 0, shape=(28,28,))\n",
    "  display_one_row(disp_encoded, 10, shape=enc_shape)\n",
    "  display_one_row(disp_predicted, 20, shape=(28,28,))"
   ]
  },
  {
   "cell_type": "code",
   "execution_count": 22,
   "id": "acfa5f8d",
   "metadata": {},
   "outputs": [
    {
     "name": "stdout",
     "output_type": "stream",
     "text": [
      "1/1 [==============================] - 0s 54ms/step\n",
      "1/1 [==============================] - 0s 36ms/step\n"
     ]
    },
    {
     "name": "stderr",
     "output_type": "stream",
     "text": [
      "2024-05-23 10:13:40.790644: W tensorflow/core/kernels/data/cache_dataset_ops.cc:856] The calling iterator did not fully read the dataset being cached. In order to avoid unexpected truncation of the dataset, the partially cached contents of the dataset  will be discarded. This can happen if you have an input pipeline similar to `dataset.cache().take(k).repeat()`. You should use `dataset.take(k).cache().repeat()` instead.\n",
      "2024-05-23 10:13:40.869435: W tensorflow/core/kernels/data/cache_dataset_ops.cc:856] The calling iterator did not fully read the dataset being cached. In order to avoid unexpected truncation of the dataset, the partially cached contents of the dataset  will be discarded. This can happen if you have an input pipeline similar to `dataset.cache().take(k).repeat()`. You should use `dataset.take(k).cache().repeat()` instead.\n",
      "2024-05-23 10:13:40.910090: W tensorflow/core/kernels/data/cache_dataset_ops.cc:856] The calling iterator did not fully read the dataset being cached. In order to avoid unexpected truncation of the dataset, the partially cached contents of the dataset  will be discarded. This can happen if you have an input pipeline similar to `dataset.cache().take(k).repeat()`. You should use `dataset.take(k).cache().repeat()` instead.\n"
     ]
    },
    {
     "data": {
      "image/png": "[encoded data removed]",
      "text/plain": [
       "<Figure size 1500x500 with 30 Axes>"
      ]
     },
     "metadata": {},
     "output_type": "display_data"
    }
   ],
   "source": [
    "# take 1 batch of the dataset\n",
    "test_dataset = test_dataset.take(1)\n",
    "\n",
    "# take the input images and put them in a list\n",
    "output_samples = []\n",
    "for input_image, image in tfds.as_numpy(test_dataset):\n",
    "      output_samples = input_image\n",
    "\n",
    "# pick 10 random numbers to be used as indices to the list above\n",
    "idxs = np.random.choice(BATCH_SIZE, size=10)\n",
    "\n",
    "# get the encoder output\n",
    "encoded_predicted = encoder_model.predict(test_dataset)\n",
    "\n",
    "# get a prediction for the test batch\n",
    "deep_predicted = autoencoder_model.predict(test_dataset)\n",
    "\n",
    "# display the 10 samples, encodings and decoded values!\n",
    "display_results(output_samples[idxs], encoded_predicted[idxs], deep_predicted[idxs])"
   ]
  },
  {
   "cell_type": "code",
   "execution_count": null,
   "id": "6ce4ccd4",
   "metadata": {},
   "outputs": [],
   "source": []
  }
 ],
 "metadata": {
  "kernelspec": {
   "display_name": "Python 3 (ipykernel)",
   "language": "python",
   "name": "python3"
  },
  "language_info": {
   "codemirror_mode": {
    "name": "ipython",
    "version": 3
   },
   "file_extension": ".py",
   "mimetype": "text/x-python",
   "name": "python",
   "nbconvert_exporter": "python",
   "pygments_lexer": "ipython3",
   "version": "3.8.10"
  }
 },
 "nbformat": 4,
 "nbformat_minor": 5
}
